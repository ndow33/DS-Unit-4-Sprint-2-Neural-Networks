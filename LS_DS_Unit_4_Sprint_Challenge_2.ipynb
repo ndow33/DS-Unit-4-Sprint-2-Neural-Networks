{
  "nbformat": 4,
  "nbformat_minor": 0,
  "metadata": {
    "kernelspec": {
      "display_name": "U4-S2-NNF-DS10",
      "language": "python",
      "name": "u4-s2-nnf-ds10"
    },
    "language_info": {
      "codemirror_mode": {
        "name": "ipython",
        "version": 3
      },
      "file_extension": ".py",
      "mimetype": "text/x-python",
      "name": "python",
      "nbconvert_exporter": "python",
      "pygments_lexer": "ipython3",
      "version": "3.7.6"
    },
    "nteract": {
      "version": "0.23.3"
    },
    "colab": {
      "name": "LS_DS_Unit_4_Sprint_Challenge_2.ipynb",
      "provenance": []
    }
  },
  "cells": [
    {
      "cell_type": "markdown",
      "metadata": {
        "id": "QiJAlaNBwpP3",
        "colab_type": "text"
      },
      "source": [
        "<img align=\"left\" src=\"https://lever-client-logos.s3.amazonaws.com/864372b1-534c-480e-acd5-9711f850815c-1524247202159.png\" width=200>\n",
        "<br></br>\n",
        "<br></br>\n",
        "\n",
        "## *Data Science Unit 4 Sprint 2*\n",
        "\n",
        "# Sprint Challenge - Neural Network Foundations\n",
        "\n",
        "Table of Problems\n",
        "\n",
        "1. [Defining Neural Networks](#Q1)\n",
        "2. [Simple Perceptron](#Q2)\n",
        "    - Perceptron\n",
        "    - Multilayer Perceptron\n",
        "    - Analyze and Compare\n",
        "4. [Keras MMP](#Q3)"
      ]
    },
    {
      "cell_type": "markdown",
      "metadata": {
        "id": "gGC6sFfSwpP4",
        "colab_type": "text"
      },
      "source": [
        "<a id=\"Q1\"></a>\n",
        "## 1. Defining Neural Networks \n",
        "\n",
        "Write *your own* definitions for the following terms:\n",
        "\n",
        "- **Neuron:**\n",
        "Also called 'nodes', a neuron is a part of the NN that stores a value. Similar to the way that our brains function, these nodes pass on signals to the next node only when a certain threshold is reached.\n",
        "\n",
        "- **Input Layer:**\n",
        "This is the data that is received by the neural network. It is the only layer that interacts directly with the initial data.\n",
        "\n",
        "- **Hidden Layer:**\n",
        "This is the \"black box\" of the neural network. A hidden layer is a layer of nodes after the input layer takes the data from the input layer and makes something of it. This is where the calculations happen based on the input layer.\n",
        "\n",
        "- **Output Layer:**\n",
        "A layer of nodes that outputs a vector of values that are used to make a prediction. The number of nodes within this layer depends on what type of problem we are trying to solve. For example, regression problems will have one node with a continuously variable number as the output. A binary classification problem will have two nodes, one yes and one no.\n",
        "\n",
        "- **Activation Function:**\n",
        "Each node has an activation funciton. Nodes in the same layer typically have the same activation function. The activation function is what determines whether or not a node is activated or not. Within the output layer, activation functions make the output interpretable.\n"
      ]
    },
    {
      "cell_type": "markdown",
      "metadata": {
        "id": "FxcbXDbGwpP5",
        "colab_type": "text"
      },
      "source": [
        "Explain how back propagation works as if you were explaining it to a five year-old. Use your own words, but feel free to reference external materials for this question. "
      ]
    },
    {
      "cell_type": "markdown",
      "metadata": {
        "id": "tUJpDupxxmut",
        "colab_type": "text"
      },
      "source": [
        "**Backpropagation:** backpropagation is something that data scientists use to see how close their prediction is to being correct. They look back at other predictions they've made using certain numbers and compare them to each other to find the best one. "
      ]
    },
    {
      "cell_type": "markdown",
      "metadata": {
        "id": "rY4yucqCwpP-",
        "colab_type": "text"
      },
      "source": [
        "Remember our Simple Perceptron Class from Monday. In a simple prediction describe the process of making a prediction. How do you go from inputs to predicted output."
      ]
    },
    {
      "cell_type": "markdown",
      "metadata": {
        "id": "eimWciG0zFiN",
        "colab_type": "text"
      },
      "source": [
        "\n",
        "\n",
        "1. Define the inputs. Make sure that are in a format that your model can interpret.\n",
        "2. Initialize some random weights to begin\n",
        "3. Calculate the weighted sums of inputs and weights \n",
        "4. Output the activated values for the end of 1 training epoch (using a sigmoid function for example)\n",
        "5. Take the difference of output and true values to calculate the error\n",
        "6. Use gradient descent to adjust the weights (using the sigmoid derivative function for example)\n",
        "7. Find the new more accurate predictions using the adjusted weights.\n",
        "8. Repeat process\n",
        "\n"
      ]
    },
    {
      "cell_type": "markdown",
      "metadata": {
        "id": "2LuJKG3swpQB",
        "colab_type": "text"
      },
      "source": [
        "<a id=\"Q2\"></a>\n",
        "## 2. Simple Perceptron\n",
        "\n",
        "In this question, you will build two neural networks using Tensorflow Keras. After you build these two models, compare the results of the model."
      ]
    },
    {
      "cell_type": "code",
      "metadata": {
        "id": "OiMnJhqYwpQC",
        "colab_type": "code",
        "colab": {}
      },
      "source": [
        "\"\"\"\n",
        "Our Dataset\n",
        "\"\"\"\n",
        "import numpy as np\n",
        "\n",
        "xx, yy = np.meshgrid(np.linspace(-3, 3, 50),\n",
        "                     np.linspace(-3, 3, 50))\n",
        "rng = np.random.RandomState(0)\n",
        "\n",
        "\"Use this X & y in the following 2 models\"\n",
        "X = rng.randn(300, 2)\n",
        "y = np.array(np.logical_xor(X[:, 0] > 0, X[:, 1] > 0), \n",
        "             dtype=int)"
      ],
      "execution_count": 1,
      "outputs": []
    },
    {
      "cell_type": "code",
      "metadata": {
        "id": "5MmyLoCJ1dQo",
        "colab_type": "code",
        "colab": {
          "base_uri": "https://localhost:8080/",
          "height": 187
        },
        "outputId": "51fc8374-315b-4d50-863d-2d13c213223d"
      },
      "source": [
        "input = X.shape[1]\n",
        "input, X[:10], X.shape"
      ],
      "execution_count": 13,
      "outputs": [
        {
          "output_type": "execute_result",
          "data": {
            "text/plain": [
              "(2, array([[ 1.76405235,  0.40015721],\n",
              "        [ 0.97873798,  2.2408932 ],\n",
              "        [ 1.86755799, -0.97727788],\n",
              "        [ 0.95008842, -0.15135721],\n",
              "        [-0.10321885,  0.4105985 ],\n",
              "        [ 0.14404357,  1.45427351],\n",
              "        [ 0.76103773,  0.12167502],\n",
              "        [ 0.44386323,  0.33367433],\n",
              "        [ 1.49407907, -0.20515826],\n",
              "        [ 0.3130677 , -0.85409574]]), (300, 2))"
            ]
          },
          "metadata": {
            "tags": []
          },
          "execution_count": 13
        }
      ]
    },
    {
      "cell_type": "markdown",
      "metadata": {
        "id": "4bGtJ-E1wpQD",
        "colab_type": "text"
      },
      "source": [
        "### Simple Perceptron\n",
        "Construct a simple perceptron using Keras. You model should have 1 dense layer with a single neuron and a sigmoid activation function. Your model should be called `model1` and make sure to save the results of your fit statement to a variable called `h1`. "
      ]
    },
    {
      "cell_type": "code",
      "metadata": {
        "id": "BdysTTX6wpQE",
        "colab_type": "code",
        "colab": {
          "base_uri": "https://localhost:8080/",
          "height": 52
        },
        "outputId": "6cff524e-9bcb-4dbb-cf56-816ef5ca1dd3"
      },
      "source": [
        "'''from tensorflow.keras import Sequential\n",
        "from tensorflow.keras.layers import Dense\n",
        "\n",
        "# instantiate model1\n",
        "model1 = Sequential()\n",
        "model1.add(Dense(1, input_dim=input, activation='sigmoid'))\n",
        "\n",
        "\n",
        "model1.compile(loss='sparse_categorical_crossentropy', optimizer='adam', metrics=['acc', 'mse'])\n",
        "\n",
        "h1 = model1.fit(x=X, \n",
        "          y=y, \n",
        "          epochs=5)\n",
        "# in this case, it seems that the single neuron architecture will take the input'''"
      ],
      "execution_count": 36,
      "outputs": [
        {
          "output_type": "execute_result",
          "data": {
            "application/vnd.google.colaboratory.intrinsic+json": {
              "type": "string"
            },
            "text/plain": [
              "\"from tensorflow.keras import Sequential\\nfrom tensorflow.keras.layers import Dense\\n\\n# instantiate model1\\nmodel1 = Sequential()\\nmodel1.add(Dense(1, input_dim=input, activation='sigmoid'))\\n\\n\\nmodel1.compile(loss='sparse_categorical_crossentropy', optimizer='adam', metrics=['acc', 'mse'])\\n\\nh1 = model1.fit(x=X, \\n          y=y, \\n          epochs=5)\\n# in this case, it seems that the single neuron architecture will take the input\""
            ]
          },
          "metadata": {
            "tags": []
          },
          "execution_count": 36
        }
      ]
    },
    {
      "cell_type": "code",
      "metadata": {
        "id": "XLw6jANc2s5r",
        "colab_type": "code",
        "colab": {
          "base_uri": "https://localhost:8080/",
          "height": 187
        },
        "outputId": "4826f0d8-a821-4dcb-d34e-570203b16cdd"
      },
      "source": [
        "from tensorflow.keras import Sequential\n",
        "from tensorflow.keras.layers import Dense\n",
        "\n",
        "# instantiate model1\n",
        "model1 = Sequential([\n",
        "    Dense(2, input_dim=input, activation=\"sigmoid\")])\n",
        "\n",
        "\n",
        "model1.compile(loss='sparse_categorical_crossentropy', optimizer='adam', metrics=['acc', 'mse'])\n",
        "\n",
        "h1 = model1.fit(x=X, \n",
        "          y=y, \n",
        "          epochs=5)"
      ],
      "execution_count": 22,
      "outputs": [
        {
          "output_type": "stream",
          "text": [
            "Epoch 1/5\n",
            "10/10 [==============================] - 0s 1ms/step - loss: 0.7910 - acc: 0.4933 - mse: 0.2773\n",
            "Epoch 2/5\n",
            "10/10 [==============================] - 0s 1ms/step - loss: 0.7884 - acc: 0.4933 - mse: 0.2766\n",
            "Epoch 3/5\n",
            "10/10 [==============================] - 0s 2ms/step - loss: 0.7861 - acc: 0.4933 - mse: 0.2761\n",
            "Epoch 4/5\n",
            "10/10 [==============================] - 0s 1ms/step - loss: 0.7835 - acc: 0.4933 - mse: 0.2755\n",
            "Epoch 5/5\n",
            "10/10 [==============================] - 0s 2ms/step - loss: 0.7810 - acc: 0.4900 - mse: 0.2749\n"
          ],
          "name": "stdout"
        }
      ]
    },
    {
      "cell_type": "markdown",
      "metadata": {
        "id": "jQ2gQeaCwpQF",
        "colab_type": "text"
      },
      "source": [
        "### Multi-Layer Perceptron\n",
        "Now construct a multi-layer perceptron using. Here are some architecture suggestions: \n",
        "- 2 Hidden Layers\n",
        "- 5-32 Neurons in the Hidden Layers\n",
        "- Your pick of activation function and optimizer\n",
        "- Incorporate the Callback function below into your model\n",
        "\n",
        "Your model should be called `model2` and make sure to save the results of your fit statement to a variable called `h2`. "
      ]
    },
    {
      "cell_type": "code",
      "metadata": {
        "id": "YYrz--6VwpQG",
        "colab_type": "code",
        "colab": {}
      },
      "source": [
        "import tensorflow as tf\n",
        "\n",
        "class myCallback(tf.keras.callbacks.Callback): \n",
        "    def on_epoch_end(self, epoch, logs={}): \n",
        "        if(logs.get('accuracy') > .99999):   \n",
        "            self.model.stop_training = True"
      ],
      "execution_count": 23,
      "outputs": []
    },
    {
      "cell_type": "code",
      "metadata": {
        "id": "rc1taz61wpQJ",
        "colab_type": "code",
        "colab": {
          "base_uri": "https://localhost:8080/",
          "height": 52
        },
        "outputId": "db5b1ba7-ace2-4209-8db2-22f38098118f"
      },
      "source": [
        "'''model2 = Sequential()\n",
        "model2.add(Dense(5, input_dim=input, activation=\"relu\"))\n",
        "model2.add(Dense(5, activation='relu'))\n",
        "\n",
        "\n",
        "model2.compile(loss='sparse_categorical_crossentropy', optimizer='adam', metrics=['acc', 'mse'])\n",
        "\n",
        "callback = myCallback()\n",
        "\n",
        "h2 = model2.fit(x=X, \n",
        "          y=y, \n",
        "          epochs=5,\n",
        "          callbacks=[callback])\n",
        "# it seems that the callback function has an error in its syntax'''"
      ],
      "execution_count": 71,
      "outputs": [
        {
          "output_type": "execute_result",
          "data": {
            "application/vnd.google.colaboratory.intrinsic+json": {
              "type": "string"
            },
            "text/plain": [
              "'model2 = Sequential()\\nmodel2.add(Dense(5, input_dim=input, activation=\"relu\"))\\nmodel2.add(Dense(5, activation=\\'relu\\'))\\n\\n\\nmodel2.compile(loss=\\'sparse_categorical_crossentropy\\', optimizer=\\'adam\\', metrics=[\\'acc\\', \\'mse\\'])\\n\\ncallback = myCallback()\\n\\nh2 = model2.fit(x=X, \\n          y=y, \\n          epochs=5,\\n          callbacks=[callback])\\n# it seems that the callback function has an error in its syntax'"
            ]
          },
          "metadata": {
            "tags": []
          },
          "execution_count": 71
        }
      ]
    },
    {
      "cell_type": "code",
      "metadata": {
        "id": "UotlQPWi88CM",
        "colab_type": "code",
        "colab": {
          "base_uri": "https://localhost:8080/",
          "height": 51
        },
        "outputId": "7817daaa-a378-41d2-fc01-e255f2a0ef94"
      },
      "source": [
        "# import tensorboard \n",
        "%load_ext tensorboard\n",
        "\n",
        "import os\n",
        "import datetime\n",
        "\n",
        "# log dir: creates a log time\n",
        "logdir = os.path.join(\"logs\", datetime.datetime.now().strftime(\"%Y%m%d-%H%M%S\"))\n",
        "\n",
        "# calls back to the model and writes information out\n",
        "tensorboard_callback = tf.keras.callbacks.TensorBoard(logdir, histogram_freq=1)"
      ],
      "execution_count": 30,
      "outputs": [
        {
          "output_type": "stream",
          "text": [
            "The tensorboard extension is already loaded. To reload it, use:\n",
            "  %reload_ext tensorboard\n"
          ],
          "name": "stdout"
        }
      ]
    },
    {
      "cell_type": "code",
      "metadata": {
        "id": "M0OSq3Mq9CO8",
        "colab_type": "code",
        "colab": {
          "base_uri": "https://localhost:8080/",
          "height": 187
        },
        "outputId": "0a01b56d-8f6b-41e9-8353-e7358f851834"
      },
      "source": [
        "model2 = Sequential()\n",
        "model2.add(Dense(5, input_dim=input, activation=\"sigmoid\"))\n",
        "model2.add(Dense(5, activation='sigmoid'))\n",
        "\n",
        "\n",
        "model2.compile(loss='sparse_categorical_crossentropy', optimizer='adam', metrics=['acc', 'mse'])\n",
        "\n",
        "\n",
        "h2 = model2.fit(x=X, \n",
        "          y=y, \n",
        "          epochs=5,\n",
        "          callbacks=[tensorboard_callback])"
      ],
      "execution_count": 60,
      "outputs": [
        {
          "output_type": "stream",
          "text": [
            "Epoch 1/5\n",
            "10/10 [==============================] - 0s 5ms/step - loss: 1.6695 - acc: 0.2508 - mse: 0.2510\n",
            "Epoch 2/5\n",
            "10/10 [==============================] - 0s 2ms/step - loss: 1.6430 - acc: 0.3201 - mse: 0.2504\n",
            "Epoch 3/5\n",
            "10/10 [==============================] - 0s 2ms/step - loss: 1.6174 - acc: 0.3630 - mse: 0.2500\n",
            "Epoch 4/5\n",
            "10/10 [==============================] - 0s 3ms/step - loss: 1.5926 - acc: 0.3927 - mse: 0.2498\n",
            "Epoch 5/5\n",
            "10/10 [==============================] - 0s 2ms/step - loss: 1.5683 - acc: 0.4323 - mse: 0.2497\n"
          ],
          "name": "stdout"
        }
      ]
    },
    {
      "cell_type": "markdown",
      "metadata": {
        "id": "jGMjhtVzwpQL",
        "colab_type": "text"
      },
      "source": [
        "### Analyze and Compare\n",
        "\n",
        "**Before you Start**: You will need to install an additional library for this next segment. Install the package `mlxtend` into the environment you are using for the sprint challenge.\n",
        "\n",
        "\n",
        "The cells below generate decision boundary plots of your models (`model1` & `model2`). Review the plots."
      ]
    },
    {
      "cell_type": "code",
      "metadata": {
        "id": "-2ovqRib_14r",
        "colab_type": "code",
        "colab": {
          "base_uri": "https://localhost:8080/",
          "height": 255
        },
        "outputId": "14d8e4b2-5fc0-4ede-ccc0-cbac392f20d1"
      },
      "source": [
        "!pip install mlxtend"
      ],
      "execution_count": 40,
      "outputs": [
        {
          "output_type": "stream",
          "text": [
            "Requirement already satisfied: mlxtend in /usr/local/lib/python3.6/dist-packages (0.14.0)\n",
            "Requirement already satisfied: matplotlib>=1.5.1 in /usr/local/lib/python3.6/dist-packages (from mlxtend) (3.2.2)\n",
            "Requirement already satisfied: pandas>=0.17.1 in /usr/local/lib/python3.6/dist-packages (from mlxtend) (1.0.5)\n",
            "Requirement already satisfied: scikit-learn>=0.18 in /usr/local/lib/python3.6/dist-packages (from mlxtend) (0.22.2.post1)\n",
            "Requirement already satisfied: numpy>=1.10.4 in /usr/local/lib/python3.6/dist-packages (from mlxtend) (1.18.5)\n",
            "Requirement already satisfied: setuptools in /usr/local/lib/python3.6/dist-packages (from mlxtend) (49.2.0)\n",
            "Requirement already satisfied: scipy>=0.17 in /usr/local/lib/python3.6/dist-packages (from mlxtend) (1.4.1)\n",
            "Requirement already satisfied: kiwisolver>=1.0.1 in /usr/local/lib/python3.6/dist-packages (from matplotlib>=1.5.1->mlxtend) (1.2.0)\n",
            "Requirement already satisfied: python-dateutil>=2.1 in /usr/local/lib/python3.6/dist-packages (from matplotlib>=1.5.1->mlxtend) (2.8.1)\n",
            "Requirement already satisfied: cycler>=0.10 in /usr/local/lib/python3.6/dist-packages (from matplotlib>=1.5.1->mlxtend) (0.10.0)\n",
            "Requirement already satisfied: pyparsing!=2.0.4,!=2.1.2,!=2.1.6,>=2.0.1 in /usr/local/lib/python3.6/dist-packages (from matplotlib>=1.5.1->mlxtend) (2.4.7)\n",
            "Requirement already satisfied: pytz>=2017.2 in /usr/local/lib/python3.6/dist-packages (from pandas>=0.17.1->mlxtend) (2018.9)\n",
            "Requirement already satisfied: joblib>=0.11 in /usr/local/lib/python3.6/dist-packages (from scikit-learn>=0.18->mlxtend) (0.16.0)\n",
            "Requirement already satisfied: six>=1.5 in /usr/local/lib/python3.6/dist-packages (from python-dateutil>=2.1->matplotlib>=1.5.1->mlxtend) (1.15.0)\n"
          ],
          "name": "stdout"
        }
      ]
    },
    {
      "cell_type": "markdown",
      "metadata": {
        "id": "knBDTqPp-r8J",
        "colab_type": "text"
      },
      "source": [
        "# This cell does not run properly for me"
      ]
    },
    {
      "cell_type": "code",
      "metadata": {
        "id": "gDVzYyAewpQM",
        "colab_type": "code",
        "colab": {
          "base_uri": "https://localhost:8080/",
          "height": 86
        },
        "outputId": "6745802d-f301-48dc-9386-aeffb7dedeb9"
      },
      "source": [
        "'''# Do Not change anything in this cell\n",
        "\n",
        "import matplotlib.pyplot as plt\n",
        "from mlxtend.plotting import plot_decision_regions\n",
        "\n",
        "h = .02  # step size in the mesh\n",
        "\n",
        "# create a mesh to plot in\n",
        "x_min, x_max = X[:, 0].min() - .2, X[:, 0].max() + .2\n",
        "y_min, y_max = X[:, 1].min() - .2, X[:, 1].max() + .2\n",
        "xx, yy = np.meshgrid(np.arange(x_min, x_max, h),\n",
        "                     np.arange(y_min, y_max, h))\n",
        "\n",
        "fig = plt.figure(figsize=(12,6))\n",
        "\n",
        "\n",
        "for clf, hist, name, grd in zip([model1,model2], [h1, h2],['Perceptron', 'Multi-Layer Perceptron'],[1,2]):\n",
        "\n",
        "    ax = plt.subplot(1,2, grd)\n",
        "    fig = plot_decision_regions(X=X, y=y, clf=clf, legend=2)\n",
        "    title = f\"{name} with {hist.history['accuracy'][-1]:,.2f} Accuracy\"\n",
        "    plt.title(title)\n",
        "\n",
        "plt.show()'''"
      ],
      "execution_count": 72,
      "outputs": [
        {
          "output_type": "execute_result",
          "data": {
            "application/vnd.google.colaboratory.intrinsic+json": {
              "type": "string"
            },
            "text/plain": [
              "'# Do Not change anything in this cell\\n\\nimport matplotlib.pyplot as plt\\nfrom mlxtend.plotting import plot_decision_regions\\n\\nh = .02  # step size in the mesh\\n\\n# create a mesh to plot in\\nx_min, x_max = X[:, 0].min() - .2, X[:, 0].max() + .2\\ny_min, y_max = X[:, 1].min() - .2, X[:, 1].max() + .2\\nxx, yy = np.meshgrid(np.arange(x_min, x_max, h),\\n                     np.arange(y_min, y_max, h))\\n\\nfig = plt.figure(figsize=(12,6))\\n\\n\\nfor clf, hist, name, grd in zip([model1,model2], [h1, h2],[\\'Perceptron\\', \\'Multi-Layer Perceptron\\'],[1,2]):\\n\\n    ax = plt.subplot(1,2, grd)\\n    fig = plot_decision_regions(X=X, y=y, clf=clf, legend=2)\\n    title = f\"{name} with {hist.history[\\'accuracy\\'][-1]:,.2f} Accuracy\"\\n    plt.title(title)\\n\\nplt.show()'"
            ]
          },
          "metadata": {
            "tags": []
          },
          "execution_count": 72
        }
      ]
    },
    {
      "cell_type": "markdown",
      "metadata": {
        "id": "ksYzbhVcwpQQ",
        "colab_type": "text"
      },
      "source": [
        "Why does the Perceptron (`model1`) only achieve ~70% accuracy? What is the architectural property of the Multi-Layer Perceptron that allows it more accurately learn the relationship between X and y? \n",
        "\n",
        "Why might this property be useful in more complex data such as images?"
      ]
    },
    {
      "cell_type": "markdown",
      "metadata": {
        "id": "Ix2rbOly-B3X",
        "colab_type": "text"
      },
      "source": [
        "The architectural property that allows teh multi-layer perceptron to more accurately learn the relationship between x and y is its hidden layers. Generally speaking, the deeper the neural network, the better it performs. "
      ]
    },
    {
      "cell_type": "markdown",
      "metadata": {
        "id": "-_Z1-VpdwpQT",
        "colab_type": "text"
      },
      "source": [
        "## 3. Keras MMP <a id=\"Q3\"></a>\n",
        "\n",
        "Implement a Multilayer Perceptron architecture of your choosing using the Keras library. Train your model and report its baseline accuracy. Then hyperparameter tune at least two parameters and report your model's accuracy.\n",
        "Use the Heart Disease Dataset (binary classification)\n",
        "Use an appropriate loss function for a binary classification task\n",
        "Use an appropriate activation function on the final layer of your network.\n",
        "Train your model using verbose output for ease of grading.\n",
        "Use GridSearchCV or RandomSearchCV to hyperparameter tune your model. (for at least two hyperparameters)\n",
        "When hyperparameter tuning, show you work by adding code cells for each new experiment.\n",
        "Report the accuracy for each combination of hyperparameters as you test them so that we can easily see which resulted in the highest accuracy.\n",
        "You must hyperparameter tune at least 3 parameters in order to get a 3 on this section."
      ]
    },
    {
      "cell_type": "code",
      "metadata": {
        "inputHidden": false,
        "jupyter": {
          "outputs_hidden": false
        },
        "outputHidden": false,
        "id": "1GkEb9f-wpQT",
        "colab_type": "code",
        "colab": {
          "base_uri": "https://localhost:8080/",
          "height": 221
        },
        "outputId": "fa0782ed-a9c6-4114-90e9-c6c1e3e35e71"
      },
      "source": [
        "import pandas as pd\n",
        "from sklearn.preprocessing import StandardScaler\n",
        "\n",
        "df = pd.read_csv('https://raw.githubusercontent.com/ryanleeallred/datasets/master/heart.csv')\n",
        "df = df.sample(frac=1)\n",
        "print(df.shape)\n",
        "df.head()"
      ],
      "execution_count": 42,
      "outputs": [
        {
          "output_type": "stream",
          "text": [
            "(303, 14)\n"
          ],
          "name": "stdout"
        },
        {
          "output_type": "execute_result",
          "data": {
            "text/html": [
              "<div>\n",
              "<style scoped>\n",
              "    .dataframe tbody tr th:only-of-type {\n",
              "        vertical-align: middle;\n",
              "    }\n",
              "\n",
              "    .dataframe tbody tr th {\n",
              "        vertical-align: top;\n",
              "    }\n",
              "\n",
              "    .dataframe thead th {\n",
              "        text-align: right;\n",
              "    }\n",
              "</style>\n",
              "<table border=\"1\" class=\"dataframe\">\n",
              "  <thead>\n",
              "    <tr style=\"text-align: right;\">\n",
              "      <th></th>\n",
              "      <th>age</th>\n",
              "      <th>sex</th>\n",
              "      <th>cp</th>\n",
              "      <th>trestbps</th>\n",
              "      <th>chol</th>\n",
              "      <th>fbs</th>\n",
              "      <th>restecg</th>\n",
              "      <th>thalach</th>\n",
              "      <th>exang</th>\n",
              "      <th>oldpeak</th>\n",
              "      <th>slope</th>\n",
              "      <th>ca</th>\n",
              "      <th>thal</th>\n",
              "      <th>target</th>\n",
              "    </tr>\n",
              "  </thead>\n",
              "  <tbody>\n",
              "    <tr>\n",
              "      <th>298</th>\n",
              "      <td>57</td>\n",
              "      <td>0</td>\n",
              "      <td>0</td>\n",
              "      <td>140</td>\n",
              "      <td>241</td>\n",
              "      <td>0</td>\n",
              "      <td>1</td>\n",
              "      <td>123</td>\n",
              "      <td>1</td>\n",
              "      <td>0.2</td>\n",
              "      <td>1</td>\n",
              "      <td>0</td>\n",
              "      <td>3</td>\n",
              "      <td>0</td>\n",
              "    </tr>\n",
              "    <tr>\n",
              "      <th>142</th>\n",
              "      <td>42</td>\n",
              "      <td>0</td>\n",
              "      <td>2</td>\n",
              "      <td>120</td>\n",
              "      <td>209</td>\n",
              "      <td>0</td>\n",
              "      <td>1</td>\n",
              "      <td>173</td>\n",
              "      <td>0</td>\n",
              "      <td>0.0</td>\n",
              "      <td>1</td>\n",
              "      <td>0</td>\n",
              "      <td>2</td>\n",
              "      <td>1</td>\n",
              "    </tr>\n",
              "    <tr>\n",
              "      <th>47</th>\n",
              "      <td>47</td>\n",
              "      <td>1</td>\n",
              "      <td>2</td>\n",
              "      <td>138</td>\n",
              "      <td>257</td>\n",
              "      <td>0</td>\n",
              "      <td>0</td>\n",
              "      <td>156</td>\n",
              "      <td>0</td>\n",
              "      <td>0.0</td>\n",
              "      <td>2</td>\n",
              "      <td>0</td>\n",
              "      <td>2</td>\n",
              "      <td>1</td>\n",
              "    </tr>\n",
              "    <tr>\n",
              "      <th>284</th>\n",
              "      <td>61</td>\n",
              "      <td>1</td>\n",
              "      <td>0</td>\n",
              "      <td>140</td>\n",
              "      <td>207</td>\n",
              "      <td>0</td>\n",
              "      <td>0</td>\n",
              "      <td>138</td>\n",
              "      <td>1</td>\n",
              "      <td>1.9</td>\n",
              "      <td>2</td>\n",
              "      <td>1</td>\n",
              "      <td>3</td>\n",
              "      <td>0</td>\n",
              "    </tr>\n",
              "    <tr>\n",
              "      <th>277</th>\n",
              "      <td>57</td>\n",
              "      <td>1</td>\n",
              "      <td>1</td>\n",
              "      <td>124</td>\n",
              "      <td>261</td>\n",
              "      <td>0</td>\n",
              "      <td>1</td>\n",
              "      <td>141</td>\n",
              "      <td>0</td>\n",
              "      <td>0.3</td>\n",
              "      <td>2</td>\n",
              "      <td>0</td>\n",
              "      <td>3</td>\n",
              "      <td>0</td>\n",
              "    </tr>\n",
              "  </tbody>\n",
              "</table>\n",
              "</div>"
            ],
            "text/plain": [
              "     age  sex  cp  trestbps  chol  fbs  ...  exang  oldpeak  slope  ca  thal  target\n",
              "298   57    0   0       140   241    0  ...      1      0.2      1   0     3       0\n",
              "142   42    0   2       120   209    0  ...      0      0.0      1   0     2       1\n",
              "47    47    1   2       138   257    0  ...      0      0.0      2   0     2       1\n",
              "284   61    1   0       140   207    0  ...      1      1.9      2   1     3       0\n",
              "277   57    1   1       124   261    0  ...      0      0.3      2   0     3       0\n",
              "\n",
              "[5 rows x 14 columns]"
            ]
          },
          "metadata": {
            "tags": []
          },
          "execution_count": 42
        }
      ]
    },
    {
      "cell_type": "code",
      "metadata": {
        "id": "YCGOUmP1BeZ7",
        "colab_type": "code",
        "colab": {}
      },
      "source": [
        "features = ['age', 'sex', 'cp', 'trestbps', 'chol', 'fbs', 'restecg', 'thalach', \n",
        "            'exang', 'oldpeak', 'slope', 'ca', 'thal']\n",
        "target = ['target']\n",
        "X = df[features]\n",
        "y = df[target]"
      ],
      "execution_count": 54,
      "outputs": []
    },
    {
      "cell_type": "code",
      "metadata": {
        "id": "1FCnjv4yCzHJ",
        "colab_type": "code",
        "colab": {
          "base_uri": "https://localhost:8080/",
          "height": 238
        },
        "outputId": "9b6e3156-3d20-419f-ca0d-98a59826d5f7"
      },
      "source": [
        "# preprocess the data\n",
        "scaler = StandardScaler()\n",
        "X = scaler.fit_transform(X)\n",
        "X"
      ],
      "execution_count": 55,
      "outputs": [
        {
          "output_type": "execute_result",
          "data": {
            "text/plain": [
              "array([[ 0.29046364, -1.46841752, -0.93851463, ..., -0.64911323,\n",
              "        -0.71442887,  1.12302895],\n",
              "       [-1.36386876, -1.46841752,  1.00257707, ..., -0.64911323,\n",
              "        -0.71442887, -0.51292188],\n",
              "       [-0.81242462,  0.68100522,  1.00257707, ...,  0.97635214,\n",
              "        -0.71442887, -0.51292188],\n",
              "       ...,\n",
              "       [ 0.84190778, -1.46841752, -0.93851463, ..., -2.27457861,\n",
              "         1.24459328, -0.51292188],\n",
              "       [ 1.39335191,  0.68100522,  1.00257707, ..., -0.64911323,\n",
              "        -0.71442887,  1.12302895],\n",
              "       [-1.25357993,  0.68100522, -0.93851463, ..., -0.64911323,\n",
              "         3.20361543,  1.12302895]])"
            ]
          },
          "metadata": {
            "tags": []
          },
          "execution_count": 55
        }
      ]
    },
    {
      "cell_type": "code",
      "metadata": {
        "id": "CM9FfoW9EUaz",
        "colab_type": "code",
        "colab": {
          "base_uri": "https://localhost:8080/",
          "height": 34
        },
        "outputId": "aaf26434-d366-462d-f786-2e4f66eb6e45"
      },
      "source": [
        "input = X.shape[1]\n",
        "input"
      ],
      "execution_count": 56,
      "outputs": [
        {
          "output_type": "execute_result",
          "data": {
            "text/plain": [
              "13"
            ]
          },
          "metadata": {
            "tags": []
          },
          "execution_count": 56
        }
      ]
    },
    {
      "cell_type": "code",
      "metadata": {
        "id": "H-rbxo-WwpQW",
        "colab_type": "code",
        "colab": {
          "base_uri": "https://localhost:8080/",
          "height": 187
        },
        "outputId": "f38cfcd5-c02f-4e63-e454-88ca72b34334"
      },
      "source": [
        "# Implement a Multilayer Perceptron architecture of your choosing using the Keras library. \n",
        "# Train your model and report its baseline accuracy\n",
        "input = X.shape[1]\n",
        "model3 = Sequential()\n",
        "model3.add(Dense(15, input_dim=input, activation=\"sigmoid\"))\n",
        "model3.add(Dense(15, activation='sigmoid'))\n",
        "\n",
        "\n",
        "model3.compile(loss='sparse_categorical_crossentropy', optimizer='adam', metrics=['acc'])\n",
        "\n",
        "h3 = model3.fit(x=X, \n",
        "          y=y, \n",
        "          epochs=5,\n",
        "          verbose = 1,\n",
        "          callbacks=[tensorboard_callback])"
      ],
      "execution_count": 69,
      "outputs": [
        {
          "output_type": "stream",
          "text": [
            "Epoch 1/5\n",
            "10/10 [==============================] - 0s 5ms/step - loss: 2.8158 - acc: 0.0066\n",
            "Epoch 2/5\n",
            "10/10 [==============================] - 0s 2ms/step - loss: 2.7351 - acc: 0.1122\n",
            "Epoch 3/5\n",
            "10/10 [==============================] - 0s 2ms/step - loss: 2.6572 - acc: 0.2640\n",
            "Epoch 4/5\n",
            "10/10 [==============================] - 0s 2ms/step - loss: 2.5802 - acc: 0.4092\n",
            "Epoch 5/5\n",
            "10/10 [==============================] - 0s 2ms/step - loss: 2.5064 - acc: 0.5116\n"
          ],
          "name": "stdout"
        }
      ]
    },
    {
      "cell_type": "markdown",
      "metadata": {
        "id": "a-JAu0e0HbP7",
        "colab_type": "text"
      },
      "source": [
        "Use GridSearchCV or RandomSearchCV to hyperparameter tune your model. (for at least two hyperparameters) When hyperparameter tuning, show you work by adding code cells for each new experiment. Report the accuracy for each combination of hyperparameters as you test them so that we can easily see which resulted in the highest accuracy. You must hyperparameter tune at least 3 parameters in order to get a 3 on this section."
      ]
    },
    {
      "cell_type": "code",
      "metadata": {
        "id": "DF1Gm7vhD8Sp",
        "colab_type": "code",
        "colab": {
          "base_uri": "https://localhost:8080/",
          "height": 119
        },
        "outputId": "6e2608bb-505b-48b5-d8fe-8ac4ffb7c157"
      },
      "source": [
        "# Batch Size tuned\n",
        "from sklearn.model_selection import GridSearchCV\n",
        "from tensorflow.keras.wrappers.scikit_learn import KerasClassifier\n",
        "\n",
        "# Function to create model, required for KerasClassifier\n",
        "def create_model():\n",
        "  model = Sequential()\n",
        "  model.add(Dense(15, input_dim=input, activation=\"sigmoid\"))\n",
        "  model.add(Dense(15, activation='sigmoid'))\n",
        "  model.compile(loss='sparse_categorical_crossentropy', optimizer='adam', metrics=['acc'])\n",
        "  return model\n",
        "\n",
        "# create model\n",
        "model = KerasClassifier(build_fn=create_model, verbose=0)\n",
        "\n",
        "# define the grid search parameters\n",
        "# batch_size = [10, 20, 40, 60, 80, 100]\n",
        "# param_grid = dict(batch_size=batch_size, epochs=epochs)\n",
        "\n",
        "# define the grid search parameters\n",
        "param_grid = {'batch_size': [2, 4, 8, 16, 32],\n",
        "              'epochs': [5]}\n",
        "\n",
        "# Create Grid Search\n",
        "grid = GridSearchCV(estimator=model, param_grid=param_grid, n_jobs=1)\n",
        "grid_result = grid.fit(X, y)\n",
        "\n",
        "# Report Results\n",
        "print(f\"Best: {grid_result.best_score_} using {grid_result.best_params_}\")\n",
        "means = grid_result.cv_results_['mean_test_score']\n",
        "stds = grid_result.cv_results_['std_test_score']\n",
        "params = grid_result.cv_results_['params']\n",
        "for mean, stdev, param in zip(means, stds, params):\n",
        "    print(f\"Means: {mean}, Stdev: {stdev} with: {param}\")\n"
      ],
      "execution_count": 70,
      "outputs": [
        {
          "output_type": "stream",
          "text": [
            "Best: 0.6827868938446044 using {'batch_size': 2, 'epochs': 5}\n",
            "Means: 0.6827868938446044, Stdev: 0.14859530283785694 with: {'batch_size': 2, 'epochs': 5}\n",
            "Means: 0.5711475253105164, Stdev: 0.11514513262527734 with: {'batch_size': 4, 'epochs': 5}\n",
            "Means: 0.6265573740005493, Stdev: 0.08531843270154049 with: {'batch_size': 8, 'epochs': 5}\n",
            "Means: 0.517595624923706, Stdev: 0.11500332040193112 with: {'batch_size': 16, 'epochs': 5}\n",
            "Means: 0.35808742716908454, Stdev: 0.24674618049259034 with: {'batch_size': 32, 'epochs': 5}\n"
          ],
          "name": "stdout"
        }
      ]
    },
    {
      "cell_type": "code",
      "metadata": {
        "id": "9QzTt_kSI9wI",
        "colab_type": "code",
        "colab": {
          "base_uri": "https://localhost:8080/",
          "height": 119
        },
        "outputId": "097554aa-55f7-40f0-f474-1b051c7f9278"
      },
      "source": [
        "# Epochs tuned\n",
        "from sklearn.model_selection import GridSearchCV\n",
        "from tensorflow.keras.wrappers.scikit_learn import KerasClassifier\n",
        "\n",
        "# Function to create model, required for KerasClassifier\n",
        "def create_model():\n",
        "  model = Sequential()\n",
        "  model.add(Dense(15, input_dim=input, activation=\"sigmoid\"))\n",
        "  model.add(Dense(15, activation='sigmoid'))\n",
        "  model.compile(loss='sparse_categorical_crossentropy', optimizer='adam', metrics=['acc'])\n",
        "  return model\n",
        "\n",
        "# create model\n",
        "model = KerasClassifier(build_fn=create_model, verbose=0)\n",
        "\n",
        "# define the grid search parameters\n",
        "# batch_size = [10, 20, 40, 60, 80, 100]\n",
        "# param_grid = dict(batch_size=batch_size, epochs=epochs)\n",
        "\n",
        "# define the grid search parameters\n",
        "param_grid = {'batch_size': [2],\n",
        "              'epochs': [5, 10, 20, 40, 80]}\n",
        "\n",
        "# Create Grid Search\n",
        "grid = GridSearchCV(estimator=model, param_grid=param_grid, n_jobs=1)\n",
        "grid_result = grid.fit(X, y)\n",
        "\n",
        "# Report Results\n",
        "print(f\"Best: {grid_result.best_score_} using {grid_result.best_params_}\")\n",
        "means = grid_result.cv_results_['mean_test_score']\n",
        "stds = grid_result.cv_results_['std_test_score']\n",
        "params = grid_result.cv_results_['params']\n",
        "for mean, stdev, param in zip(means, stds, params):\n",
        "    print(f\"Means: {mean}, Stdev: {stdev} with: {param}\")"
      ],
      "execution_count": 73,
      "outputs": [
        {
          "output_type": "stream",
          "text": [
            "Best: 0.8316939949989319 using {'batch_size': 2, 'epochs': 40}\n",
            "Means: 0.7261748552322388, Stdev: 0.050243640551983146 with: {'batch_size': 2, 'epochs': 5}\n",
            "Means: 0.8016393423080445, Stdev: 0.059415768352203586 with: {'batch_size': 2, 'epochs': 10}\n",
            "Means: 0.8185245871543885, Stdev: 0.034154711627181866 with: {'batch_size': 2, 'epochs': 20}\n",
            "Means: 0.8316939949989319, Stdev: 0.028173088673241725 with: {'batch_size': 2, 'epochs': 40}\n",
            "Means: 0.828360652923584, Stdev: 0.02676055101462159 with: {'batch_size': 2, 'epochs': 80}\n"
          ],
          "name": "stdout"
        }
      ]
    },
    {
      "cell_type": "code",
      "metadata": {
        "id": "YMkds-Q2Jmv7",
        "colab_type": "code",
        "colab": {
          "base_uri": "https://localhost:8080/",
          "height": 85
        },
        "outputId": "4ed0e637-f925-4d7e-b179-f40d29406fb7"
      },
      "source": [
        "# lr tuned in adam optimizer\n",
        "from tensorflow.keras.optimizers import Adam\n",
        "from sklearn.model_selection import GridSearchCV\n",
        "from tensorflow.keras.wrappers.scikit_learn import KerasClassifier\n",
        "\n",
        "# Function to create model, required for KerasClassifier\n",
        "def create_model(lr):\n",
        "  # create optimizer\n",
        "  adam = Adam(lr=lr)\n",
        "  # create model\n",
        "  model = Sequential()\n",
        "  model.add(Dense(15, input_dim=input, activation=\"sigmoid\"))\n",
        "  model.add(Dense(15, activation='sigmoid'))\n",
        "  model.compile(loss='sparse_categorical_crossentropy', optimizer=adam, metrics=['acc'])\n",
        "  return model\n",
        "\n",
        "# create model\n",
        "model = KerasClassifier(build_fn=create_model, verbose=0)\n",
        "\n",
        "# define the grid search parameters\n",
        "# batch_size = [10, 20, 40, 60, 80, 100]\n",
        "# param_grid = dict(batch_size=batch_size, epochs=epochs)\n",
        "\n",
        "# define the grid search parameters\n",
        "param_grid = {'lr': [.001, .01, .1],\n",
        "              'batch_size': [2],\n",
        "              'epochs': [40]}\n",
        "\n",
        "# Create Grid Search\n",
        "grid = GridSearchCV(estimator=model, param_grid=param_grid, n_jobs=1)\n",
        "grid_result = grid.fit(X, y)\n",
        "\n",
        "# Report Results\n",
        "print(f\"Best: {grid_result.best_score_} using {grid_result.best_params_}\")\n",
        "means = grid_result.cv_results_['mean_test_score']\n",
        "stds = grid_result.cv_results_['std_test_score']\n",
        "params = grid_result.cv_results_['params']\n",
        "for mean, stdev, param in zip(means, stds, params):\n",
        "    print(f\"Means: {mean}, Stdev: {stdev} with: {param}\")"
      ],
      "execution_count": 75,
      "outputs": [
        {
          "output_type": "stream",
          "text": [
            "Best: 0.8152458906173706 using {'batch_size': 2, 'epochs': 40, 'lr': 0.001}\n",
            "Means: 0.8152458906173706, Stdev: 0.023601505352439805 with: {'batch_size': 2, 'epochs': 40, 'lr': 0.001}\n",
            "Means: 0.7986885190010071, Stdev: 0.0242677011538408 with: {'batch_size': 2, 'epochs': 40, 'lr': 0.01}\n",
            "Means: 0.8021857976913452, Stdev: 0.041966722073448585 with: {'batch_size': 2, 'epochs': 40, 'lr': 0.1}\n"
          ],
          "name": "stdout"
        }
      ]
    },
    {
      "cell_type": "code",
      "metadata": {
        "id": "vuejI2-XMCov",
        "colab_type": "code",
        "colab": {
          "base_uri": "https://localhost:8080/",
          "height": 68
        },
        "outputId": "b3fa2deb-da2c-4f23-ea6e-1a59532f9037"
      },
      "source": [
        "# lr tuned in adam optimizer\n",
        "from tensorflow.keras.optimizers import Adam\n",
        "from sklearn.model_selection import GridSearchCV\n",
        "from tensorflow.keras.wrappers.scikit_learn import KerasClassifier\n",
        "\n",
        "# Function to create model, required for KerasClassifier\n",
        "def create_model(lr):\n",
        "  # create optimizer\n",
        "  adam = Adam(lr=lr)\n",
        "  # create model\n",
        "  model = Sequential()\n",
        "  model.add(Dense(15, input_dim=input, activation=\"sigmoid\"))\n",
        "  model.add(Dense(15, activation='sigmoid'))\n",
        "  model.compile(loss='sparse_categorical_crossentropy', optimizer=adam, metrics=['acc'])\n",
        "  return model\n",
        "\n",
        "# create model\n",
        "model = KerasClassifier(build_fn=create_model, verbose=0)\n",
        "\n",
        "# define the grid search parameters\n",
        "# batch_size = [10, 20, 40, 60, 80, 100]\n",
        "# param_grid = dict(batch_size=batch_size, epochs=epochs)\n",
        "\n",
        "# define the grid search parameters\n",
        "param_grid = {'lr': [.0005, .0015],\n",
        "              'batch_size': [2],\n",
        "              'epochs': [40]}\n",
        "\n",
        "# Create Grid Search\n",
        "grid = GridSearchCV(estimator=model, param_grid=param_grid, n_jobs=1)\n",
        "grid_result = grid.fit(X, y)\n",
        "\n",
        "# Report Results\n",
        "print(f\"Best: {grid_result.best_score_} using {grid_result.best_params_}\")\n",
        "means = grid_result.cv_results_['mean_test_score']\n",
        "stds = grid_result.cv_results_['std_test_score']\n",
        "params = grid_result.cv_results_['params']\n",
        "for mean, stdev, param in zip(means, stds, params):\n",
        "    print(f\"Means: {mean}, Stdev: {stdev} with: {param}\")"
      ],
      "execution_count": 76,
      "outputs": [
        {
          "output_type": "stream",
          "text": [
            "Best: 0.8350273251533509 using {'batch_size': 2, 'epochs': 40, 'lr': 0.0015}\n",
            "Means: 0.8251366257667542, Stdev: 0.021872266635895442 with: {'batch_size': 2, 'epochs': 40, 'lr': 0.0005}\n",
            "Means: 0.8350273251533509, Stdev: 0.02716588237536672 with: {'batch_size': 2, 'epochs': 40, 'lr': 0.0015}\n"
          ],
          "name": "stdout"
        }
      ]
    }
  ]
}