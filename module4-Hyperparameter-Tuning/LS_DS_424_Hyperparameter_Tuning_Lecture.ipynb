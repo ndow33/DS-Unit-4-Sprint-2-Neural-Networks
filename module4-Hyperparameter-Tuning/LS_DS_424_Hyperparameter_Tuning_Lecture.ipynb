{
  "nbformat": 4,
  "nbformat_minor": 0,
  "metadata": {
    "kernelspec": {
      "display_name": "U4-S2-NNF-DS12",
      "language": "python",
      "name": "u4-s2-nnf-ds12"
    },
    "language_info": {
      "codemirror_mode": {
        "name": "ipython",
        "version": 3
      },
      "file_extension": ".py",
      "mimetype": "text/x-python",
      "name": "python",
      "nbconvert_exporter": "python",
      "pygments_lexer": "ipython3",
      "version": "3.7.7"
    },
    "colab": {
      "name": "LS_DS_424_Hyperparameter_Tuning_Lecture.ipynb",
      "provenance": [],
      "include_colab_link": true
    }
  },
  "cells": [
    {
      "cell_type": "markdown",
      "metadata": {
        "id": "view-in-github",
        "colab_type": "text"
      },
      "source": [
        "<a href=\"https://colab.research.google.com/github/ndow33/DS-Unit-4-Sprint-2-Neural-Networks/blob/main/module4-Hyperparameter-Tuning/LS_DS_424_Hyperparameter_Tuning_Lecture.ipynb\" target=\"_parent\"><img src=\"https://colab.research.google.com/assets/colab-badge.svg\" alt=\"Open In Colab\"/></a>"
      ]
    },
    {
      "cell_type": "markdown",
      "metadata": {
        "colab_type": "text",
        "id": "41TS0Sa0rDNx"
      },
      "source": [
        "Lambda School Data Science\n",
        "\n",
        "*Unit 4, Sprint 2, Module 4*\n",
        "\n",
        "---"
      ]
    },
    {
      "cell_type": "markdown",
      "metadata": {
        "colab_type": "text",
        "id": "tX-iUY45X8tw"
      },
      "source": [
        "# Neural Networks & GPUs (Prepare)\n",
        "*aka Hyperparameter Tuning*\n",
        "\n",
        "*aka Big Servers for Big Problems*"
      ]
    },
    {
      "cell_type": "markdown",
      "metadata": {
        "colab_type": "text",
        "id": "wpZQh2P-X8tx"
      },
      "source": [
        "## Learning Objectives\n",
        "* <a href=\"#p1\">Part 1</a>: Describe the major hyperparemeters to tune\n",
        "* <a href=\"#p2\">Part 2</a>: Implement an experiment tracking framework\n",
        "* <a href=\"#p3\">Part 3</a>: Search the hyperparameter space using RandomSearch (Optional)"
      ]
    },
    {
      "cell_type": "code",
      "metadata": {
        "id": "Tp-PS-CQaspb",
        "colab_type": "code",
        "colab": {
          "base_uri": "https://localhost:8080/",
          "height": 1000
        },
        "outputId": "56ae7bc0-b270-4cf9-eecc-fcafdf35daf5"
      },
      "source": [
        "!pip install wandb"
      ],
      "execution_count": 2,
      "outputs": [
        {
          "output_type": "stream",
          "text": [
            "Collecting wandb\n",
            "\u001b[?25l  Downloading https://files.pythonhosted.org/packages/94/19/f8db9eff4b0173adf6dd2e8b0c3d8de0bfe10ec9ed63d247665980d82258/wandb-0.9.4-py2.py3-none-any.whl (1.4MB)\n",
            "\u001b[K     |████████████████████████████████| 1.4MB 2.7MB/s \n",
            "\u001b[?25hRequirement already satisfied: nvidia-ml-py3>=7.352.0 in /usr/local/lib/python3.6/dist-packages (from wandb) (7.352.0)\n",
            "Requirement already satisfied: requests>=2.0.0 in /usr/local/lib/python3.6/dist-packages (from wandb) (2.23.0)\n",
            "Collecting sentry-sdk>=0.4.0\n",
            "\u001b[?25l  Downloading https://files.pythonhosted.org/packages/19/2a/5461e1fe0026d6eab10571f81d052894328e97f15614abb6a576c65bc82d/sentry_sdk-0.16.2-py2.py3-none-any.whl (109kB)\n",
            "\u001b[K     |████████████████████████████████| 112kB 19.5MB/s \n",
            "\u001b[?25hRequirement already satisfied: six>=1.10.0 in /usr/local/lib/python3.6/dist-packages (from wandb) (1.15.0)\n",
            "Collecting GitPython>=1.0.0\n",
            "\u001b[?25l  Downloading https://files.pythonhosted.org/packages/f9/1e/a45320cab182bf1c8656107b3d4c042e659742822fc6bff150d769a984dd/GitPython-3.1.7-py3-none-any.whl (158kB)\n",
            "\u001b[K     |████████████████████████████████| 163kB 16.1MB/s \n",
            "\u001b[?25hRequirement already satisfied: psutil>=5.0.0 in /usr/local/lib/python3.6/dist-packages (from wandb) (5.4.8)\n",
            "Collecting watchdog>=0.8.3\n",
            "\u001b[?25l  Downloading https://files.pythonhosted.org/packages/0e/06/121302598a4fc01aca942d937f4a2c33430b7181137b35758913a8db10ad/watchdog-0.10.3.tar.gz (94kB)\n",
            "\u001b[K     |████████████████████████████████| 102kB 7.3MB/s \n",
            "\u001b[?25hRequirement already satisfied: python-dateutil>=2.6.1 in /usr/local/lib/python3.6/dist-packages (from wandb) (2.8.1)\n",
            "Requirement already satisfied: PyYAML>=3.10 in /usr/local/lib/python3.6/dist-packages (from wandb) (3.13)\n",
            "Collecting configparser>=3.8.1\n",
            "  Downloading https://files.pythonhosted.org/packages/4b/6b/01baa293090240cf0562cc5eccb69c6f5006282127f2b846fad011305c79/configparser-5.0.0-py3-none-any.whl\n",
            "Requirement already satisfied: Click>=7.0 in /usr/local/lib/python3.6/dist-packages (from wandb) (7.1.2)\n",
            "Collecting subprocess32>=3.5.3\n",
            "\u001b[?25l  Downloading https://files.pythonhosted.org/packages/32/c8/564be4d12629b912ea431f1a50eb8b3b9d00f1a0b1ceff17f266be190007/subprocess32-3.5.4.tar.gz (97kB)\n",
            "\u001b[K     |████████████████████████████████| 102kB 8.7MB/s \n",
            "\u001b[?25hCollecting gql==0.2.0\n",
            "  Downloading https://files.pythonhosted.org/packages/c4/6f/cf9a3056045518f06184e804bae89390eb706168349daa9dff8ac609962a/gql-0.2.0.tar.gz\n",
            "Collecting docker-pycreds>=0.4.0\n",
            "  Downloading https://files.pythonhosted.org/packages/f5/e8/f6bd1eee09314e7e6dee49cbe2c5e22314ccdb38db16c9fc72d2fa80d054/docker_pycreds-0.4.0-py2.py3-none-any.whl\n",
            "Collecting shortuuid>=0.5.0\n",
            "  Downloading https://files.pythonhosted.org/packages/25/a6/2ecc1daa6a304e7f1b216f0896b26156b78e7c38e1211e9b798b4716c53d/shortuuid-1.0.1-py3-none-any.whl\n",
            "Requirement already satisfied: urllib3!=1.25.0,!=1.25.1,<1.26,>=1.21.1 in /usr/local/lib/python3.6/dist-packages (from requests>=2.0.0->wandb) (1.24.3)\n",
            "Requirement already satisfied: certifi>=2017.4.17 in /usr/local/lib/python3.6/dist-packages (from requests>=2.0.0->wandb) (2020.6.20)\n",
            "Requirement already satisfied: chardet<4,>=3.0.2 in /usr/local/lib/python3.6/dist-packages (from requests>=2.0.0->wandb) (3.0.4)\n",
            "Requirement already satisfied: idna<3,>=2.5 in /usr/local/lib/python3.6/dist-packages (from requests>=2.0.0->wandb) (2.10)\n",
            "Collecting gitdb<5,>=4.0.1\n",
            "\u001b[?25l  Downloading https://files.pythonhosted.org/packages/48/11/d1800bca0a3bae820b84b7d813ad1eff15a48a64caea9c823fc8c1b119e8/gitdb-4.0.5-py3-none-any.whl (63kB)\n",
            "\u001b[K     |████████████████████████████████| 71kB 6.9MB/s \n",
            "\u001b[?25hCollecting pathtools>=0.1.1\n",
            "  Downloading https://files.pythonhosted.org/packages/e7/7f/470d6fcdf23f9f3518f6b0b76be9df16dcc8630ad409947f8be2eb0ed13a/pathtools-0.1.2.tar.gz\n",
            "Collecting graphql-core<2,>=0.5.0\n",
            "\u001b[?25l  Downloading https://files.pythonhosted.org/packages/b0/89/00ad5e07524d8c523b14d70c685e0299a8b0de6d0727e368c41b89b7ed0b/graphql-core-1.1.tar.gz (70kB)\n",
            "\u001b[K     |████████████████████████████████| 71kB 5.4MB/s \n",
            "\u001b[?25hRequirement already satisfied: promise<3,>=2.0 in /usr/local/lib/python3.6/dist-packages (from gql==0.2.0->wandb) (2.3)\n",
            "Collecting smmap<4,>=3.0.1\n",
            "  Downloading https://files.pythonhosted.org/packages/b0/9a/4d409a6234eb940e6a78dfdfc66156e7522262f5f2fecca07dc55915952d/smmap-3.0.4-py2.py3-none-any.whl\n",
            "Building wheels for collected packages: watchdog, subprocess32, gql, pathtools, graphql-core\n",
            "  Building wheel for watchdog (setup.py) ... \u001b[?25l\u001b[?25hdone\n",
            "  Created wheel for watchdog: filename=watchdog-0.10.3-cp36-none-any.whl size=73870 sha256=2831216af9727a35135b0caad4404b7fa86d17c6aeb6dd5371b27fd38fb0fe1a\n",
            "  Stored in directory: /root/.cache/pip/wheels/a8/1d/38/2c19bb311f67cc7b4d07a2ec5ea36ab1a0a0ea50db994a5bc7\n",
            "  Building wheel for subprocess32 (setup.py) ... \u001b[?25l\u001b[?25hdone\n",
            "  Created wheel for subprocess32: filename=subprocess32-3.5.4-cp36-none-any.whl size=6489 sha256=289f13be697ecf7bb0363b7dfbc8d5c503e8d4abd9a9b7fa05133a39d24460c2\n",
            "  Stored in directory: /root/.cache/pip/wheels/68/39/1a/5e402bdfdf004af1786c8b853fd92f8c4a04f22aad179654d1\n",
            "  Building wheel for gql (setup.py) ... \u001b[?25l\u001b[?25hdone\n",
            "  Created wheel for gql: filename=gql-0.2.0-cp36-none-any.whl size=7630 sha256=024e41fafebe0f3d72d1a8d531238e244ce569734318e10a3ba9c32609ef116f\n",
            "  Stored in directory: /root/.cache/pip/wheels/ce/0e/7b/58a8a5268655b3ad74feef5aa97946f0addafb3cbb6bd2da23\n",
            "  Building wheel for pathtools (setup.py) ... \u001b[?25l\u001b[?25hdone\n",
            "  Created wheel for pathtools: filename=pathtools-0.1.2-cp36-none-any.whl size=8784 sha256=415159895a52a11003ef91e926916e031971457389122979f7fc34152593d401\n",
            "  Stored in directory: /root/.cache/pip/wheels/0b/04/79/c3b0c3a0266a3cb4376da31e5bfe8bba0c489246968a68e843\n",
            "  Building wheel for graphql-core (setup.py) ... \u001b[?25l\u001b[?25hdone\n",
            "  Created wheel for graphql-core: filename=graphql_core-1.1-cp36-none-any.whl size=104650 sha256=8c544b9bfae2841010b83ebf7c96b6cb17eaf44ef93337682ba5927928fd0729\n",
            "  Stored in directory: /root/.cache/pip/wheels/45/99/d7/c424029bb0fe910c63b68dbf2aa20d3283d023042521bcd7d5\n",
            "Successfully built watchdog subprocess32 gql pathtools graphql-core\n",
            "Installing collected packages: sentry-sdk, smmap, gitdb, GitPython, pathtools, watchdog, configparser, subprocess32, graphql-core, gql, docker-pycreds, shortuuid, wandb\n",
            "Successfully installed GitPython-3.1.7 configparser-5.0.0 docker-pycreds-0.4.0 gitdb-4.0.5 gql-0.2.0 graphql-core-1.1 pathtools-0.1.2 sentry-sdk-0.16.2 shortuuid-1.0.1 smmap-3.0.4 subprocess32-3.5.4 wandb-0.9.4 watchdog-0.10.3\n"
          ],
          "name": "stdout"
        }
      ]
    },
    {
      "cell_type": "code",
      "metadata": {
        "id": "qIzqOvQ1byBU",
        "colab_type": "code",
        "colab": {
          "base_uri": "https://localhost:8080/",
          "height": 85
        },
        "outputId": "5d4a29b6-d7d4-4889-d0b2-394144883c0d"
      },
      "source": [
        "!wandb --login 4cc371082404b0babe3bcddb4afe175e85ec2d3f"
      ],
      "execution_count": 3,
      "outputs": [
        {
          "output_type": "stream",
          "text": [
            "Usage: wandb [OPTIONS] COMMAND [ARGS]...\n",
            "Try 'wandb --help' for help.\n",
            "\n",
            "Error: no such option: --login\n"
          ],
          "name": "stdout"
        }
      ]
    },
    {
      "cell_type": "code",
      "metadata": {
        "id": "NLJwK8mNcFLx",
        "colab_type": "code",
        "colab": {
          "base_uri": "https://localhost:8080/",
          "height": 578
        },
        "outputId": "9fcec337-a5e8-456e-9905-c915cfa52832"
      },
      "source": [
        "!wandb --help"
      ],
      "execution_count": 4,
      "outputs": [
        {
          "output_type": "stream",
          "text": [
            "Usage: wandb [OPTIONS] COMMAND [ARGS]...\n",
            "\n",
            "  Weights & Biases.\n",
            "\n",
            "  Run \"wandb docs\" for full documentation.\n",
            "\n",
            "Options:\n",
            "  --version  Show the version and exit.\n",
            "  --help     Show this message and exit.\n",
            "\n",
            "Commands:\n",
            "  agent       Run the W&B agent\n",
            "  artifact    Commands for interacting with...\n",
            "  controller  Run the W&B local sweep controller\n",
            "  docker      W&B docker lets you run your code...\n",
            "  docker-run  Simple docker wrapper that adds...\n",
            "  docs        Open documentation in a browser\n",
            "  gc          Garbage collector, cleans up your...\n",
            "  init        Configure a directory with\n",
            "              Weights...\n",
            "\n",
            "  local       Launch local W&B container...\n",
            "  login       Login to Weights & Biases\n",
            "  off         Disable W&B in this directory,...\n",
            "  on          Ensure W&B is enabled in this...\n",
            "  projects    List projects\n",
            "  pull        Pull files from Weights & Biases\n",
            "  restore     Restore code, config and docker...\n",
            "  run         Launch a job\n",
            "  runs        List runs in a project\n",
            "  status      List local & remote file status\n",
            "  sweep       Create a sweep\n",
            "  sync        Upload an offline training...\n"
          ],
          "name": "stdout"
        }
      ]
    },
    {
      "cell_type": "code",
      "metadata": {
        "id": "aZyIyvYNcOX4",
        "colab_type": "code",
        "colab": {
          "base_uri": "https://localhost:8080/",
          "height": 85
        },
        "outputId": "fc763a5d-4898-4458-983c-12f33aea1ef1"
      },
      "source": [
        "!wandb login"
      ],
      "execution_count": 5,
      "outputs": [
        {
          "output_type": "stream",
          "text": [
            "\u001b[34m\u001b[1mwandb\u001b[0m: You can find your API key in your browser here: https://app.wandb.ai/authorize\n",
            "\u001b[34m\u001b[1mwandb\u001b[0m: Paste an API key from your profile and hit enter: 4cc371082404b0babe3bcddb4afe175e85ec2d3f\n",
            "\u001b[34m\u001b[1mwandb\u001b[0m: Appending key for api.wandb.ai to your netrc file: /root/.netrc\n",
            "\u001b[32mSuccessfully logged in to Weights & Biases!\u001b[0m\n"
          ],
          "name": "stdout"
        }
      ]
    },
    {
      "cell_type": "markdown",
      "metadata": {
        "id": "anizjhcYX8t0",
        "colab_type": "text"
      },
      "source": [
        "# Hyperparameter Options (Learn)\n",
        "<a id=\"p1\"></a>"
      ]
    },
    {
      "cell_type": "markdown",
      "metadata": {
        "id": "9xWEbpuQX8t0",
        "colab_type": "text"
      },
      "source": [
        "## Overview\n",
        "\n",
        "Hyperparameter tuning is much more important with neural networks than it has been with any other models that we have considered up to this point. Other supervised learning models might have a couple of parameters, but neural networks can have dozens. These can substantially affect the accuracy of our models and although it can be a time consuming process is a necessary step when working with neural networks.\n",
        "​\n",
        "Hyperparameter tuning comes with a challenge. How can we compare models specified with different hyperparameters if our model's final error metric can vary somewhat erratically? How do we avoid just getting unlucky and selecting the wrong hyperparameter? This is a problem that to a certain degree we just have to live with as we test and test again. However, we can minimize it somewhat by pairing our experiments with Cross Validation to reduce the variance of our final accuracy values."
      ]
    },
    {
      "cell_type": "markdown",
      "metadata": {
        "colab_type": "text",
        "id": "0s0o2pqBs88q"
      },
      "source": [
        "### Load Boston Housing Data"
      ]
    },
    {
      "cell_type": "code",
      "metadata": {
        "id": "Ti8qyhmgX8t1",
        "colab_type": "code",
        "colab": {
          "base_uri": "https://localhost:8080/",
          "height": 51
        },
        "outputId": "69c29edf-bd1f-46ab-93a9-2acf75247e87"
      },
      "source": [
        "from tensorflow.keras.datasets import boston_housing\n",
        "\n",
        "(x_train, y_train), (x_test, y_test) = boston_housing.load_data()"
      ],
      "execution_count": 6,
      "outputs": [
        {
          "output_type": "stream",
          "text": [
            "Downloading data from https://storage.googleapis.com/tensorflow/tf-keras-datasets/boston_housing.npz\n",
            "57344/57026 [==============================] - 0s 0us/step\n"
          ],
          "name": "stdout"
        }
      ]
    },
    {
      "cell_type": "markdown",
      "metadata": {
        "colab_type": "text",
        "id": "Pm7zow5IvaTt"
      },
      "source": [
        "### Normalizing Input Data\n",
        "\n",
        "It's not 100% necessary to normalize/scale your input data before feeding it to a neural network, the network can learn the appropriate weights to deal with data of as long as it is numerically represented,  but it is recommended as it can help **make training faster** and **reduces the chances that gradient descent might get stuck in a local optimum**.\n",
        "\n",
        "<https://stackoverflow.com/questions/4674623/why-do-we-have-to-normalize-the-input-for-an-artificial-neural-network>"
      ]
    },
    {
      "cell_type": "code",
      "metadata": {
        "id": "E239Fx01X8t4",
        "colab_type": "code",
        "colab": {
          "base_uri": "https://localhost:8080/",
          "height": 527
        },
        "outputId": "e48a7efc-702d-4f2b-ae23-755fbd41b675"
      },
      "source": [
        "from sklearn.preprocessing import StandardScaler\n",
        "\n",
        "scaler = StandardScaler()\n",
        "\n",
        "x_train = scaler.fit_transform(x_train) # why fit_transform and not just transform?\n",
        "x_test = scaler.transform(x_test)\n",
        "print(x_train[:10])"
      ],
      "execution_count": 7,
      "outputs": [
        {
          "output_type": "stream",
          "text": [
            "[[-0.27224633 -0.48361547 -0.43576161 -0.25683275 -0.1652266  -0.1764426\n",
            "   0.81306188  0.1166983  -0.62624905 -0.59517003  1.14850044  0.44807713\n",
            "   0.8252202 ]\n",
            " [-0.40342651  2.99178419 -1.33391162 -0.25683275 -1.21518188  1.89434613\n",
            "  -1.91036058  1.24758524 -0.85646254 -0.34843254 -1.71818909  0.43190599\n",
            "  -1.32920239]\n",
            " [ 0.1249402  -0.48361547  1.0283258  -0.25683275  0.62864202 -1.82968811\n",
            "   1.11048828 -1.18743907  1.67588577  1.5652875   0.78447637  0.22061726\n",
            "  -1.30850006]\n",
            " [-0.40149354 -0.48361547 -0.86940196 -0.25683275 -0.3615597  -0.3245576\n",
            "  -1.23667187  1.10717989 -0.51114231 -1.094663    0.78447637  0.44807713\n",
            "  -0.65292624]\n",
            " [-0.0056343  -0.48361547  1.0283258  -0.25683275  1.32861221  0.15364225\n",
            "   0.69480801 -0.57857203  1.67588577  1.5652875   0.78447637  0.3898823\n",
            "   0.26349695]\n",
            " [-0.37502238 -0.48361547 -0.54747912 -0.25683275 -0.54935658 -0.78865126\n",
            "   0.18954148  0.48371503 -0.51114231 -0.71552978  0.51145832  0.38669063\n",
            "  -0.13812828]\n",
            " [ 0.58963463 -0.48361547  1.0283258  -0.25683275  1.21764133 -1.03127774\n",
            "   1.11048828 -1.06518235  1.67588577  1.5652875   0.78447637  0.44807713\n",
            "   1.49873604]\n",
            " [ 0.0381708  -0.48361547  1.24588095 -0.25683275  2.67733525 -1.12719983\n",
            "   1.11048828 -1.14833073 -0.51114231 -0.01744323 -1.71818909  0.44807713\n",
            "   1.88793986]\n",
            " [-0.17228416 -0.48361547  1.24588095 -0.25683275  2.67733525 -0.90150078\n",
            "   1.11048828 -1.09664657 -0.51114231 -0.01744323 -1.71818909 -1.97365769\n",
            "   0.53952803]\n",
            " [-0.22932104 -0.48361547  1.58544339 -0.25683275  0.56888847 -1.76056777\n",
            "   1.11048828 -1.13471925 -0.62624905  0.18716835  1.23950646  0.44807713\n",
            "   2.99068404]]\n"
          ],
          "name": "stdout"
        }
      ]
    },
    {
      "cell_type": "markdown",
      "metadata": {
        "colab_type": "text",
        "id": "l6hgCWbir90R"
      },
      "source": [
        "### Model Validation using an automatic verification Dataset\n",
        "\n",
        "Instead of doing seperate train test split class, Keras has a really nice feature that you can set the validation.data argument when fitting your model and Keras will take that portion of your test data and use it as a validation dataset. "
      ]
    },
    {
      "cell_type": "code",
      "metadata": {
        "colab_type": "code",
        "id": "GMXVfmzXp1Oo",
        "colab": {
          "base_uri": "https://localhost:8080/",
          "height": 1000
        },
        "outputId": "c9937572-42f4-49d5-8db2-1777b5af2039"
      },
      "source": [
        "from tensorflow import keras\n",
        "from tensorflow.keras.models import Sequential\n",
        "from tensorflow.keras.layers import Dense\n",
        "\n",
        "# Important Hyperparameters\n",
        "inputs = x_train.shape[1]\n",
        "epochs = 75\n",
        "batch_size = 10\n",
        "\n",
        "\n",
        "# Create Model\n",
        "model = Sequential()\n",
        "model.add(Dense(64, activation='relu', input_shape=(inputs,)))\n",
        "model.add(Dense(64, activation='relu'))\n",
        "model.add(Dense(1))\n",
        "\n",
        "# Compile Model\n",
        "model.compile(optimizer='adam', loss='mse', metrics=['mae'])\n",
        "\n",
        "# Fit Model\n",
        "model.fit(x_train, y_train, \n",
        "          validation_data=(x_test,y_test), \n",
        "          epochs=epochs, \n",
        "          batch_size=batch_size\n",
        "         )"
      ],
      "execution_count": 8,
      "outputs": [
        {
          "output_type": "stream",
          "text": [
            "Epoch 1/75\n",
            "41/41 [==============================] - 0s 6ms/step - loss: 496.6043 - mae: 20.1781 - val_loss: 400.6487 - val_mae: 17.7881\n",
            "Epoch 2/75\n",
            "41/41 [==============================] - 0s 2ms/step - loss: 234.9471 - mae: 12.5274 - val_loss: 111.5761 - val_mae: 8.3797\n",
            "Epoch 3/75\n",
            "41/41 [==============================] - 0s 2ms/step - loss: 75.4460 - mae: 6.4885 - val_loss: 55.7445 - val_mae: 5.7913\n",
            "Epoch 4/75\n",
            "41/41 [==============================] - 0s 2ms/step - loss: 39.2547 - mae: 4.6532 - val_loss: 33.8989 - val_mae: 4.6231\n",
            "Epoch 5/75\n",
            "41/41 [==============================] - 0s 3ms/step - loss: 26.6279 - mae: 3.7464 - val_loss: 27.0695 - val_mae: 4.1195\n",
            "Epoch 6/75\n",
            "41/41 [==============================] - 0s 2ms/step - loss: 22.2380 - mae: 3.4003 - val_loss: 24.4546 - val_mae: 3.7807\n",
            "Epoch 7/75\n",
            "41/41 [==============================] - 0s 2ms/step - loss: 19.2883 - mae: 3.1084 - val_loss: 22.8977 - val_mae: 3.6263\n",
            "Epoch 8/75\n",
            "41/41 [==============================] - 0s 3ms/step - loss: 17.2309 - mae: 2.9393 - val_loss: 22.8311 - val_mae: 3.4900\n",
            "Epoch 9/75\n",
            "41/41 [==============================] - 0s 2ms/step - loss: 15.8853 - mae: 2.7586 - val_loss: 22.4671 - val_mae: 3.4509\n",
            "Epoch 10/75\n",
            "41/41 [==============================] - 0s 2ms/step - loss: 14.7125 - mae: 2.6439 - val_loss: 23.6161 - val_mae: 3.5092\n",
            "Epoch 11/75\n",
            "41/41 [==============================] - 0s 3ms/step - loss: 13.6893 - mae: 2.6441 - val_loss: 21.9192 - val_mae: 3.3390\n",
            "Epoch 12/75\n",
            "41/41 [==============================] - 0s 2ms/step - loss: 13.1613 - mae: 2.5055 - val_loss: 23.4396 - val_mae: 3.4211\n",
            "Epoch 13/75\n",
            "41/41 [==============================] - 0s 2ms/step - loss: 12.2135 - mae: 2.4254 - val_loss: 23.6201 - val_mae: 3.4055\n",
            "Epoch 14/75\n",
            "41/41 [==============================] - 0s 2ms/step - loss: 11.6725 - mae: 2.4110 - val_loss: 24.2381 - val_mae: 3.4181\n",
            "Epoch 15/75\n",
            "41/41 [==============================] - 0s 2ms/step - loss: 11.5171 - mae: 2.4504 - val_loss: 22.8103 - val_mae: 3.2936\n",
            "Epoch 16/75\n",
            "41/41 [==============================] - 0s 2ms/step - loss: 10.8832 - mae: 2.3140 - val_loss: 24.9205 - val_mae: 3.4202\n",
            "Epoch 17/75\n",
            "41/41 [==============================] - 0s 2ms/step - loss: 10.7210 - mae: 2.3165 - val_loss: 22.8831 - val_mae: 3.2582\n",
            "Epoch 18/75\n",
            "41/41 [==============================] - 0s 3ms/step - loss: 10.7132 - mae: 2.3160 - val_loss: 23.8080 - val_mae: 3.2900\n",
            "Epoch 19/75\n",
            "41/41 [==============================] - 0s 3ms/step - loss: 10.1244 - mae: 2.2394 - val_loss: 24.6127 - val_mae: 3.3553\n",
            "Epoch 20/75\n",
            "41/41 [==============================] - 0s 3ms/step - loss: 10.0880 - mae: 2.2826 - val_loss: 22.7915 - val_mae: 3.2227\n",
            "Epoch 21/75\n",
            "41/41 [==============================] - 0s 2ms/step - loss: 9.9234 - mae: 2.2796 - val_loss: 23.8873 - val_mae: 3.2943\n",
            "Epoch 22/75\n",
            "41/41 [==============================] - 0s 2ms/step - loss: 9.7150 - mae: 2.2378 - val_loss: 25.1824 - val_mae: 3.4096\n",
            "Epoch 23/75\n",
            "41/41 [==============================] - 0s 2ms/step - loss: 9.5928 - mae: 2.2102 - val_loss: 23.5646 - val_mae: 3.2531\n",
            "Epoch 24/75\n",
            "41/41 [==============================] - 0s 2ms/step - loss: 9.5591 - mae: 2.2203 - val_loss: 23.6317 - val_mae: 3.2462\n",
            "Epoch 25/75\n",
            "41/41 [==============================] - 0s 3ms/step - loss: 9.2094 - mae: 2.1440 - val_loss: 24.9050 - val_mae: 3.2647\n",
            "Epoch 26/75\n",
            "41/41 [==============================] - 0s 3ms/step - loss: 9.1313 - mae: 2.1620 - val_loss: 23.7783 - val_mae: 3.2329\n",
            "Epoch 27/75\n",
            "41/41 [==============================] - 0s 3ms/step - loss: 9.0023 - mae: 2.1182 - val_loss: 23.6733 - val_mae: 3.2358\n",
            "Epoch 28/75\n",
            "41/41 [==============================] - 0s 3ms/step - loss: 8.9528 - mae: 2.1747 - val_loss: 23.8216 - val_mae: 3.2223\n",
            "Epoch 29/75\n",
            "41/41 [==============================] - 0s 3ms/step - loss: 8.8318 - mae: 2.1427 - val_loss: 22.6198 - val_mae: 3.0932\n",
            "Epoch 30/75\n",
            "41/41 [==============================] - 0s 2ms/step - loss: 8.8311 - mae: 2.1042 - val_loss: 23.4640 - val_mae: 3.1487\n",
            "Epoch 31/75\n",
            "41/41 [==============================] - 0s 2ms/step - loss: 8.9477 - mae: 2.1163 - val_loss: 24.9543 - val_mae: 3.3075\n",
            "Epoch 32/75\n",
            "41/41 [==============================] - 0s 2ms/step - loss: 9.0056 - mae: 2.1354 - val_loss: 22.9618 - val_mae: 3.1107\n",
            "Epoch 33/75\n",
            "41/41 [==============================] - 0s 2ms/step - loss: 8.6076 - mae: 2.0880 - val_loss: 24.3146 - val_mae: 3.1793\n",
            "Epoch 34/75\n",
            "41/41 [==============================] - 0s 2ms/step - loss: 8.2535 - mae: 2.0600 - val_loss: 22.2742 - val_mae: 3.0526\n",
            "Epoch 35/75\n",
            "41/41 [==============================] - 0s 2ms/step - loss: 8.2961 - mae: 2.0327 - val_loss: 21.5598 - val_mae: 3.0288\n",
            "Epoch 36/75\n",
            "41/41 [==============================] - 0s 3ms/step - loss: 8.1662 - mae: 2.0343 - val_loss: 22.6622 - val_mae: 3.0783\n",
            "Epoch 37/75\n",
            "41/41 [==============================] - 0s 3ms/step - loss: 7.9168 - mae: 1.9841 - val_loss: 22.5751 - val_mae: 3.0889\n",
            "Epoch 38/75\n",
            "41/41 [==============================] - 0s 2ms/step - loss: 8.0438 - mae: 1.9914 - val_loss: 22.3676 - val_mae: 3.0479\n",
            "Epoch 39/75\n",
            "41/41 [==============================] - 0s 2ms/step - loss: 8.0231 - mae: 2.0336 - val_loss: 20.5600 - val_mae: 2.9053\n",
            "Epoch 40/75\n",
            "41/41 [==============================] - 0s 2ms/step - loss: 7.6907 - mae: 1.9560 - val_loss: 22.0906 - val_mae: 3.0191\n",
            "Epoch 41/75\n",
            "41/41 [==============================] - 0s 2ms/step - loss: 7.8149 - mae: 1.9776 - val_loss: 21.8928 - val_mae: 2.9979\n",
            "Epoch 42/75\n",
            "41/41 [==============================] - 0s 2ms/step - loss: 7.5833 - mae: 1.9406 - val_loss: 21.2450 - val_mae: 2.9396\n",
            "Epoch 43/75\n",
            "41/41 [==============================] - 0s 2ms/step - loss: 7.4250 - mae: 1.9422 - val_loss: 21.3209 - val_mae: 3.0100\n",
            "Epoch 44/75\n",
            "41/41 [==============================] - 0s 2ms/step - loss: 7.4896 - mae: 1.9161 - val_loss: 21.8693 - val_mae: 3.0118\n",
            "Epoch 45/75\n",
            "41/41 [==============================] - 0s 2ms/step - loss: 7.3285 - mae: 1.9287 - val_loss: 20.4166 - val_mae: 2.8629\n",
            "Epoch 46/75\n",
            "41/41 [==============================] - 0s 3ms/step - loss: 7.3666 - mae: 1.9571 - val_loss: 20.9088 - val_mae: 2.9646\n",
            "Epoch 47/75\n",
            "41/41 [==============================] - 0s 2ms/step - loss: 7.4548 - mae: 1.9210 - val_loss: 22.0906 - val_mae: 2.9725\n",
            "Epoch 48/75\n",
            "41/41 [==============================] - 0s 2ms/step - loss: 7.3050 - mae: 1.9055 - val_loss: 19.8472 - val_mae: 2.8286\n",
            "Epoch 49/75\n",
            "41/41 [==============================] - 0s 2ms/step - loss: 7.0860 - mae: 1.9009 - val_loss: 20.7752 - val_mae: 2.9042\n",
            "Epoch 50/75\n",
            "41/41 [==============================] - 0s 2ms/step - loss: 7.0373 - mae: 1.9027 - val_loss: 19.5848 - val_mae: 2.8415\n",
            "Epoch 51/75\n",
            "41/41 [==============================] - 0s 2ms/step - loss: 7.2384 - mae: 1.9067 - val_loss: 18.4605 - val_mae: 2.7164\n",
            "Epoch 52/75\n",
            "41/41 [==============================] - 0s 2ms/step - loss: 7.0154 - mae: 1.8782 - val_loss: 19.6690 - val_mae: 2.8107\n",
            "Epoch 53/75\n",
            "41/41 [==============================] - 0s 2ms/step - loss: 6.7489 - mae: 1.8382 - val_loss: 21.2414 - val_mae: 2.9725\n",
            "Epoch 54/75\n",
            "41/41 [==============================] - 0s 2ms/step - loss: 6.8620 - mae: 1.8650 - val_loss: 20.2796 - val_mae: 2.8884\n",
            "Epoch 55/75\n",
            "41/41 [==============================] - 0s 3ms/step - loss: 6.6824 - mae: 1.8208 - val_loss: 18.9157 - val_mae: 2.7317\n",
            "Epoch 56/75\n",
            "41/41 [==============================] - 0s 3ms/step - loss: 6.6830 - mae: 1.8300 - val_loss: 18.8596 - val_mae: 2.7721\n",
            "Epoch 57/75\n",
            "41/41 [==============================] - 0s 3ms/step - loss: 6.5265 - mae: 1.8051 - val_loss: 17.6805 - val_mae: 2.6571\n",
            "Epoch 58/75\n",
            "41/41 [==============================] - 0s 2ms/step - loss: 6.4998 - mae: 1.8144 - val_loss: 19.2438 - val_mae: 2.7830\n",
            "Epoch 59/75\n",
            "41/41 [==============================] - 0s 2ms/step - loss: 6.4936 - mae: 1.8102 - val_loss: 18.4445 - val_mae: 2.7194\n",
            "Epoch 60/75\n",
            "41/41 [==============================] - 0s 2ms/step - loss: 6.3148 - mae: 1.7799 - val_loss: 19.7638 - val_mae: 2.8109\n",
            "Epoch 61/75\n",
            "41/41 [==============================] - 0s 2ms/step - loss: 6.3807 - mae: 1.7994 - val_loss: 18.9166 - val_mae: 2.7538\n",
            "Epoch 62/75\n",
            "41/41 [==============================] - 0s 2ms/step - loss: 6.5323 - mae: 1.7889 - val_loss: 18.3118 - val_mae: 2.7301\n",
            "Epoch 63/75\n",
            "41/41 [==============================] - 0s 2ms/step - loss: 6.5211 - mae: 1.8159 - val_loss: 20.1933 - val_mae: 2.9886\n",
            "Epoch 64/75\n",
            "41/41 [==============================] - 0s 2ms/step - loss: 6.2491 - mae: 1.7745 - val_loss: 19.0997 - val_mae: 2.7937\n",
            "Epoch 65/75\n",
            "41/41 [==============================] - 0s 3ms/step - loss: 6.5057 - mae: 1.8184 - val_loss: 17.6791 - val_mae: 2.6945\n",
            "Epoch 66/75\n",
            "41/41 [==============================] - 0s 2ms/step - loss: 6.2959 - mae: 1.7971 - val_loss: 17.7649 - val_mae: 2.7263\n",
            "Epoch 67/75\n",
            "41/41 [==============================] - 0s 2ms/step - loss: 6.1772 - mae: 1.7691 - val_loss: 17.9342 - val_mae: 2.6953\n",
            "Epoch 68/75\n",
            "41/41 [==============================] - 0s 2ms/step - loss: 6.3244 - mae: 1.7867 - val_loss: 19.3569 - val_mae: 2.9008\n",
            "Epoch 69/75\n",
            "41/41 [==============================] - 0s 3ms/step - loss: 6.0298 - mae: 1.7572 - val_loss: 19.0670 - val_mae: 2.8565\n",
            "Epoch 70/75\n",
            "41/41 [==============================] - 0s 3ms/step - loss: 6.0298 - mae: 1.7733 - val_loss: 16.7441 - val_mae: 2.5916\n",
            "Epoch 71/75\n",
            "41/41 [==============================] - 0s 2ms/step - loss: 5.7413 - mae: 1.6864 - val_loss: 17.4763 - val_mae: 2.7183\n",
            "Epoch 72/75\n",
            "41/41 [==============================] - 0s 2ms/step - loss: 5.6829 - mae: 1.6943 - val_loss: 16.6404 - val_mae: 2.5861\n",
            "Epoch 73/75\n",
            "41/41 [==============================] - 0s 2ms/step - loss: 5.7009 - mae: 1.6928 - val_loss: 17.8102 - val_mae: 2.7290\n",
            "Epoch 74/75\n",
            "41/41 [==============================] - 0s 3ms/step - loss: 5.8415 - mae: 1.7256 - val_loss: 17.6661 - val_mae: 2.7423\n",
            "Epoch 75/75\n",
            "41/41 [==============================] - 0s 3ms/step - loss: 5.5974 - mae: 1.6752 - val_loss: 15.5200 - val_mae: 2.5375\n"
          ],
          "name": "stdout"
        },
        {
          "output_type": "execute_result",
          "data": {
            "text/plain": [
              "<tensorflow.python.keras.callbacks.History at 0x7fde57994dd8>"
            ]
          },
          "metadata": {
            "tags": []
          },
          "execution_count": 8
        }
      ]
    },
    {
      "cell_type": "markdown",
      "metadata": {
        "colab_type": "text",
        "id": "sYJ8t_ezHP4W"
      },
      "source": [
        "### Hyperparameter Tuning Approaches:\n",
        "\n",
        "#### 1) Babysitting AKA \"Grad Student Descent\".\n",
        "\n",
        "If you fiddled with any hyperparameters yesterday, this is basically what you did. This approach is 100% manual and is pretty common among researchers where finding that 1 exact specification that jumps your model to a level of accuracy never seen before is the difference between publishing and not publishing a paper. Of course the professors don't do this themselves, that's grunt work. This is also known as the fiddle with hyperparameters until you run out of time method.\n",
        "\n",
        "#### 2) Grid Search\n",
        "\n",
        "Grid Search is the Grad Student galaxy brain realization of: why don't I just specify all the experiments I want to run and let the computer try every possible combination of them while I go and grab lunch. This has a specific downside in that if I specify 5 hyperparameters with 5 options each then I've just created 5^5 combinations of hyperparameters to check. Which means that I have to train 3125 different versions of my model Then if I use 5-fold Cross Validation on that then my model has to run 15,525 times. This is the brute-force method of hyperparameter tuning, but it can be very profitable if done wisely. \n",
        "\n",
        "When using Grid Search here's what I suggest: don't use it to test combinations of different hyperparameters, only use it to test different specifications of **a single** hyperparameter. It's rare that combinations between different hyperparameters lead to big performance gains. You'll get 90-95% of the way there if you just Grid Search one parameter and take the best result, then retain that best result while you test another, and then retain the best specification from that while you train another. This at least makes the situation much more manageable and leads to pretty good results. \n",
        "\n",
        "#### 3) Random Search\n",
        "\n",
        "Do Grid Search for a couple of hours and you'll say to yourself - \"There's got to be a better way.\" Enter Random Search. For Random search you specify a hyperparameter space and it picks specifications from that randomly, tries them out, gives you the best results and says - That's going to have to be good enough, go home and spend time with your family. \n",
        "\n",
        "Grid Search treats every parameter as if it was equally important, but this just isn't the case, some are known to move the needle a lot more than others (we'll talk about that in a minute). Random Search allows searching to be specified along the most important parameter and experiments less along the dimensions of less important hyperparameters. The downside of Random search is that it won't find the absolute best hyperparameters, but it is much less costly to perform than Grid Search. \n",
        "\n",
        "#### 4) Bayesian Methods\n",
        "\n",
        "One thing that can make more manual methods like babysitting and gridsearch effective is that as the experimenter sees results he can then make updates to his future searches taking into account the results of past specifications. If only we could hyperparameter tune our hyperparameter tuning. Well, we kind of can. Enter Bayesian Optimization. Neural Networks are like an optimization problem within an optimization problem, and Bayesian Optimization is a search strategy that tries to take into account the results of past searches in order to improve future ones. Check out the new library `keras-tuner` for easy implementations of Bayesian methods. \n"
      ]
    },
    {
      "cell_type": "markdown",
      "metadata": {
        "colab_type": "text",
        "id": "HfQ7D043OMMn"
      },
      "source": [
        "## What Hyperparameters are there to test?\n",
        "\n",
        "- batch_size\n",
        "- training epochs\n",
        "- optimization algorithms\n",
        "- learning rate\n",
        "- momentum\n",
        "- activation functions\n",
        "- dropout regularization\n",
        "- number of neurons in the hidden layer\n",
        "\n",
        "There are more, but these are the most important."
      ]
    },
    {
      "cell_type": "markdown",
      "metadata": {
        "id": "Imhl0aJ2X8uA",
        "colab_type": "text"
      },
      "source": [
        "## Follow Along"
      ]
    },
    {
      "cell_type": "markdown",
      "metadata": {
        "colab_type": "text",
        "id": "Mri5-kXzVKAa"
      },
      "source": [
        "## Batch Size\n",
        "\n",
        "Batch size determines how many observations the model is shown before it calculates loss/error and updates the model weights via gradient descent. You're looking for a sweet spot here where you're showing it enough observations that you have enough information to updates the weights, but not such a large batch size that you don't get a lot of weight update iterations performed in a given epoch. Feed-forward Neural Networks aren't as sensitive to bach_size as other networks, but it is still an important hyperparameter to tune. Smaller batch sizes will also take longer to train. \n",
        "\n",
        "Traditionally, batch size is set in powers of 2 starting at 32 up to 512. Keras defaults to a batch size of 32 if you do not specify it. Yann LeCun famously Twitted: \n",
        "\n",
        "> Training with large minibatches is bad for your health.\n",
        "More importantly, it's bad for your test error.\n",
        "Friends dont let friends use minibatches larger than 32.\n",
        "\n",
        "Check out this paper for more reference on his tweet. https://arxiv.org/abs/1804.07612. \n",
        "\n",
        "Check out this SO question on why batch size is typically set in powers of two: https://datascience.stackexchange.com/questions/20179/what-is-the-advantage-of-keeping-batch-size-a-power-of-2\n",
        "\n"
      ]
    },
    {
      "cell_type": "code",
      "metadata": {
        "colab_type": "code",
        "id": "2smXfriNAGn7",
        "colab": {
          "base_uri": "https://localhost:8080/",
          "height": 136
        },
        "outputId": "0268cf2e-639a-41b0-a708-013a0874f12a"
      },
      "source": [
        "import numpy\n",
        "import pandas as pd\n",
        "from sklearn.model_selection import GridSearchCV\n",
        "from tensorflow.keras.models import Sequential\n",
        "from tensorflow.keras.layers import Dense\n",
        "from tensorflow.keras.wrappers.scikit_learn import KerasClassifier\n",
        "\n",
        "# fix random seed for reproducibility\n",
        "seed = 7\n",
        "numpy.random.seed(seed)\n",
        "\n",
        "# load dataset\n",
        "url =\"https://raw.githubusercontent.com/jbrownlee/Datasets/master/pima-indians-diabetes.data.csv\"\n",
        "\n",
        "dataset = pd.read_csv(url, header=None).values\n",
        "\n",
        "# split into input (X) and output (Y) variables\n",
        "X = dataset[:,0:8]\n",
        "Y = dataset[:,8]\n",
        "\n",
        "# Function to create model, required for KerasClassifier\n",
        "def create_model():\n",
        "    # create model\n",
        "    model = Sequential()\n",
        "    model.add(Dense(12, input_dim=8, activation='relu'))\n",
        "    model.add(Dense(1, activation='sigmoid'))\n",
        "    # Compile model\n",
        "    model.compile(loss='binary_crossentropy', optimizer='adam', metrics=['accuracy'])\n",
        "    return model\n",
        "\n",
        "# create model\n",
        "model = KerasClassifier(build_fn=create_model, verbose=0)\n",
        "\n",
        "# define the grid search parameters\n",
        "# batch_size = [10, 20, 40, 60, 80, 100]\n",
        "# param_grid = dict(batch_size=batch_size, epochs=epochs)\n",
        "\n",
        "# define the grid search parameters\n",
        "param_grid = {'batch_size': [10, 20, 40, 60, 80, 100],\n",
        "              'epochs': [20]}\n",
        "\n",
        "# Create Grid Search\n",
        "grid = GridSearchCV(estimator=model, param_grid=param_grid, n_jobs=1)\n",
        "grid_result = grid.fit(X, Y)\n",
        "\n",
        "# Report Results\n",
        "print(f\"Best: {grid_result.best_score_} using {grid_result.best_params_}\")\n",
        "means = grid_result.cv_results_['mean_test_score']\n",
        "stds = grid_result.cv_results_['std_test_score']\n",
        "params = grid_result.cv_results_['params']\n",
        "for mean, stdev, param in zip(means, stds, params):\n",
        "    print(f\"Means: {mean}, Stdev: {stdev} with: {param}\") "
      ],
      "execution_count": 9,
      "outputs": [
        {
          "output_type": "stream",
          "text": [
            "Best: 0.6510822534561157 using {'batch_size': 20, 'epochs': 20}\n",
            "Means: 0.6224259376525879, Stdev: 0.043162178059112696 with: {'batch_size': 10, 'epochs': 20}\n",
            "Means: 0.6510822534561157, Stdev: 0.022488851285611133 with: {'batch_size': 20, 'epochs': 20}\n",
            "Means: 0.6002970933914185, Stdev: 0.036260580623702514 with: {'batch_size': 40, 'epochs': 20}\n",
            "Means: 0.6106612324714661, Stdev: 0.05843254290709846 with: {'batch_size': 60, 'epochs': 20}\n",
            "Means: 0.5924794197082519, Stdev: 0.023633147303097058 with: {'batch_size': 80, 'epochs': 20}\n",
            "Means: 0.5821407437324524, Stdev: 0.04277408768684705 with: {'batch_size': 100, 'epochs': 20}\n"
          ],
          "name": "stdout"
        }
      ]
    },
    {
      "cell_type": "markdown",
      "metadata": {
        "colab_type": "text",
        "id": "EKcuY6OiaLfz"
      },
      "source": [
        "## Optimizer\n",
        "\n",
        "Remember that there's a different optimizers [optimizers](https://keras.io/optimizers/). At some point, take some time to read up on them a little bit. \"adam\" usually gives the best results. The thing to know about choosing an optimizer is that different optimizers have different hyperparameters like learning rate, momentum, etc. So based on the optimizer you choose you might also have to tune the learning rate and momentum of those optimizers after that. "
      ]
    },
    {
      "cell_type": "markdown",
      "metadata": {
        "colab_type": "text",
        "id": "DG3wq5iOaLig"
      },
      "source": [
        "## Learning Rate\n",
        "\n",
        "Remember that the Learning Rate is a hyperparameter that is specific to your gradient-descent based optimizer selection. A learning rate that is too high will cause divergent behavior, but a Learning Rate that is too low will fail to converge, again, you're looking for the sweet spot. I would start out tuning learning rates by orders of magnitude: [.001, .01, .1, .2, .3, .5] etc. I wouldn't go above .5, but you can try it and see what the behavior is like. \n",
        "\n",
        "Once you have narrowed it down, make the window even smaller and try it again. If after running the above specification your model reports that .1 is the best optimizer, then you should probably try things like [.05, .08, .1, .12, .15] to try and narrow it down. \n",
        "\n",
        "It can also be good to tune the number of epochs in combination with the learning rate since the number of iterations that you allow the learning rate to reach the minimum can determine if you have let it run long enough to converge to the minimum. "
      ]
    },
    {
      "cell_type": "code",
      "metadata": {
        "id": "gEsD_N_AX8uE",
        "colab_type": "code",
        "colab": {
          "base_uri": "https://localhost:8080/",
          "height": 85
        },
        "outputId": "3b25f5b2-9964-4a4b-c35a-1465d2c51b14"
      },
      "source": [
        "from tensorflow.keras.optimizers import Adam\n",
        "\n",
        "# Function to create model, required for KerasClassifier\n",
        "def create_model(lr):\n",
        "    # Create optimizer\n",
        "    adam = Adam(lr=lr)\n",
        "    # create model\n",
        "    model = Sequential()\n",
        "    model.add(Dense(12, input_dim=8, activation='relu'))\n",
        "    model.add(Dense(1, activation='sigmoid'))\n",
        "    # Compile model\n",
        "    model.compile(loss='binary_crossentropy', optimizer=adam, metrics=['accuracy'])\n",
        "    return model\n",
        "\n",
        "# create model\n",
        "model = KerasClassifier(build_fn=create_model, verbose=0)\n",
        "\n",
        "# define the grid search parameters\n",
        "# batch_size = [10, 20, 40, 60, 80, 100]\n",
        "# param_grid = dict(batch_size=batch_size, epochs=epochs)\n",
        "\n",
        "# define the grid search parameters\n",
        "param_grid = {'lr': [.001, .01, .1],\n",
        "              'batch_size': [10],\n",
        "              'epochs': [20]}\n",
        "\n",
        "# Create Grid Search\n",
        "grid = GridSearchCV(estimator=model, param_grid=param_grid, n_jobs=1)\n",
        "grid_result = grid.fit(X, Y)\n",
        "\n",
        "# Report Results\n",
        "print(f\"Best: {grid_result.best_score_} using {grid_result.best_params_}\")\n",
        "means = grid_result.cv_results_['mean_test_score']\n",
        "stds = grid_result.cv_results_['std_test_score']\n",
        "params = grid_result.cv_results_['params']\n",
        "for mean, stdev, param in zip(means, stds, params):\n",
        "    print(f\"Means: {mean}, Stdev: {stdev} with: {param}\") "
      ],
      "execution_count": 10,
      "outputs": [
        {
          "output_type": "stream",
          "text": [
            "Best: 0.6783125519752502 using {'batch_size': 10, 'epochs': 20, 'lr': 0.01}\n",
            "Means: 0.6247771978378296, Stdev: 0.07842318299396181 with: {'batch_size': 10, 'epochs': 20, 'lr': 0.001}\n",
            "Means: 0.6783125519752502, Stdev: 0.023795021114125518 with: {'batch_size': 10, 'epochs': 20, 'lr': 0.01}\n",
            "Means: 0.6511586427688598, Stdev: 0.05244526932680711 with: {'batch_size': 10, 'epochs': 20, 'lr': 0.1}\n"
          ],
          "name": "stdout"
        }
      ]
    },
    {
      "cell_type": "code",
      "metadata": {
        "id": "IPXnCIiHndM8",
        "colab_type": "code",
        "colab": {
          "base_uri": "https://localhost:8080/",
          "height": 85
        },
        "outputId": "5911dcaa-bcb1-4e6e-c2db-0127891af7e4"
      },
      "source": [
        "# create model\n",
        "model = KerasClassifier(build_fn=create_model, verbose=0)\n",
        "\n",
        "# define the grid search parameters\n",
        "# batch_size = [10, 20, 40, 60, 80, 100]\n",
        "# param_grid = dict(batch_size=batch_size, epochs=epochs)\n",
        "\n",
        "# define the grid search parameters\n",
        "param_grid = {'lr': [.008, .01, .012],\n",
        "              'batch_size': [10],\n",
        "              'epochs': [20]}\n",
        "\n",
        "# Create Grid Search\n",
        "grid = GridSearchCV(estimator=model, param_grid=param_grid, n_jobs=1)\n",
        "grid_result = grid.fit(X, Y)\n",
        "\n",
        "# Report Results\n",
        "print(f\"Best: {grid_result.best_score_} using {grid_result.best_params_}\")\n",
        "means = grid_result.cv_results_['mean_test_score']\n",
        "stds = grid_result.cv_results_['std_test_score']\n",
        "params = grid_result.cv_results_['params']\n",
        "for mean, stdev, param in zip(means, stds, params):\n",
        "    print(f\"Means: {mean}, Stdev: {stdev} with: {param}\") "
      ],
      "execution_count": 11,
      "outputs": [
        {
          "output_type": "stream",
          "text": [
            "Best: 0.7292080640792846 using {'batch_size': 10, 'epochs': 20, 'lr': 0.01}\n",
            "Means: 0.6822256326675415, Stdev: 0.0933369009923845 with: {'batch_size': 10, 'epochs': 20, 'lr': 0.008}\n",
            "Means: 0.7292080640792846, Stdev: 0.02185781000350387 with: {'batch_size': 10, 'epochs': 20, 'lr': 0.01}\n",
            "Means: 0.7032425165176391, Stdev: 0.039197191213641965 with: {'batch_size': 10, 'epochs': 20, 'lr': 0.012}\n"
          ],
          "name": "stdout"
        }
      ]
    },
    {
      "cell_type": "markdown",
      "metadata": {
        "colab_type": "text",
        "id": "gNTBUWd1aLlA"
      },
      "source": [
        "## Momentum\n",
        "\n",
        "Momentum is a hyperparameter that is more commonly associated with Stochastic Gradient Descent. SGD is a common optimizer because it's what people understand and know, but I doubt it will get you the best results, you can try hyperparameter tuning its attributes and see if you can beat the performance from adam. Momentum is a property that decides the willingness of an optimizer to overshoot the minimum. Imagine a ball rolling down one side of a bowl and then up the opposite side a little bit before settling back to the bottom. The purpose of momentum is to try and escale local minima."
      ]
    },
    {
      "cell_type": "markdown",
      "metadata": {
        "colab_type": "text",
        "id": "xnEG-bCJaLnZ"
      },
      "source": [
        "## Activation Functions\n",
        "\n",
        "We've talked about this a little bit, typically you'l want to use ReLU for hidden layers and either Sigmoid, or Softmax for output layers of binary and multi-class classification implementations respectively, but try other activation functions and see if you can get any better results with sigmoid or tanh or something. There are a lot of activation functions that we haven't really talked about. Maybe you'll get good results with them. Maybe you won't. :) <https://keras.io/activations/>"
      ]
    },
    {
      "cell_type": "markdown",
      "metadata": {
        "colab_type": "text",
        "id": "oul9sPq-dU-h"
      },
      "source": [
        "## Network Weight Initialization\n",
        "\n",
        "You saw how big of an effect the way that we initialize our network's weights can have on our results. There are **a lot** of what are called initialization modes. I don't understand all of them, but they can have a big affect on your model's initial accuracy. Your model will get further with less epochs if you initialize it with weights that are well suited to the problem you're trying to solve.\n",
        "\n",
        "`init_mode = ['uniform', 'lecun_uniform', 'normal', 'zero', 'glorot_normal', 'glorot_uniform', 'he_normal', 'he_uniform']`"
      ]
    },
    {
      "cell_type": "markdown",
      "metadata": {
        "colab_type": "text",
        "id": "bqtEuxeQaLqE"
      },
      "source": [
        "## Dropout Regularization and the Weight Constraint\n",
        "\n",
        "the Dropout Regularization value is a percentage of neurons that you want to be randomly deactivated during training. The weight constraint is a second regularization parameter that works in tandem with dropout regularization. You should tune these two values at the same time. \n",
        "\n",
        "Using dropout on visible vs hidden layers might have a different effect. Using dropout on hidden layers might not have any effect while using dropout on hidden layers might have a substantial effect. You don't necessarily need to turn use dropout unless you see that your model has overfitting and generalizability problems."
      ]
    },
    {
      "cell_type": "markdown",
      "metadata": {
        "colab_type": "text",
        "id": "P2c5Cv6oaLtO"
      },
      "source": [
        "## Neurons in Hidden Layer \n",
        "\n",
        "Remember that when we only had a single perceptron our model was only able to fit to linearly separable data, but as we have added layers and nodes to those layers our network has become a powerhouse of fitting nonlinearity in data. The larger the network and the more nodes generally the stronger the network's capacity to fit nonlinear patterns in data. The more nodes and layers the longer it will take to train a network, and higher the probability of overfitting. The larger your network gets the more you'll need dropout regularization or other regularization techniques to keep it in check. \n",
        "\n",
        "Typically depth (more layers) is more important than width (more nodes) for neural networks. This is part of why Deep Learning is so highly touted. Certain deep learning architectures have truly been huge breakthroughs for certain machine learning tasks. \n",
        "\n",
        "You might borrow ideas from other network architectures. For example if I was doing image recognition and I wasn't taking cues from state of the art architectures like resnet, alexnet, googlenet, etc. Then I'm probably going to have to do a lot more experimentation on my own before I find something that works.\n",
        "\n",
        "There are some heuristics, but I am highly skeptical of them. I think you're better off experimenting on your own and forming your own intuition for these kinds of problems. \n",
        "\n",
        "- https://machinelearningmastery.com/how-to-configure-the-number-of-layers-and-nodes-in-a-neural-network/"
      ]
    },
    {
      "cell_type": "markdown",
      "metadata": {
        "id": "uXt4PqAeX8uK",
        "colab_type": "text"
      },
      "source": [
        "## Challenge\n",
        "You will be expected to tune several hyperparameters in today's module project. "
      ]
    },
    {
      "cell_type": "markdown",
      "metadata": {
        "id": "ZGxFksvSX8uL",
        "colab_type": "text"
      },
      "source": [
        "# Experiment Tracking Framework (Learn)\n",
        "<a id=\"p2\"></a>"
      ]
    },
    {
      "cell_type": "markdown",
      "metadata": {
        "id": "UdLI_WD6X8uL",
        "colab_type": "text"
      },
      "source": [
        "## Overview\n",
        "\n",
        "You will notice quickly that managing the results of all the experiments you are running becomes challenging. Which set of parameters did the best? Are my results today different than my results yesterday? Although we use Ipython Notebooks to work, the format is not well suited to logging experimental results. Enter experiment tracking frameworks like [Comet.ml](https://comet.ml) and [Weights and Biases](https://wandb.ai/).\n",
        "\n",
        "Those tools will help you track your experiments, store the results, and the code associated with those experiments. Experimental results can also be readily visualized to see changes in performance across any metric you care about. Data is sent to the tool as each epoch is completed, so you can also see if your model is converging. Let's check out Weights & Biases today. "
      ]
    },
    {
      "cell_type": "markdown",
      "metadata": {
        "id": "Ii97iKcCX8uM",
        "colab_type": "text"
      },
      "source": [
        "## Follow Along\n",
        "\n",
        "Make sure you login into `wandb` in the terminal before running the next cell. "
      ]
    },
    {
      "cell_type": "code",
      "metadata": {
        "id": "-44Haad4X8uM",
        "colab_type": "code",
        "colab": {}
      },
      "source": [
        "import wandb\n",
        "from wandb.keras import WandbCallback"
      ],
      "execution_count": 12,
      "outputs": []
    },
    {
      "cell_type": "code",
      "metadata": {
        "colab_type": "code",
        "id": "z2JXW7XmX8uP",
        "colab": {
          "base_uri": "https://localhost:8080/",
          "height": 1000
        },
        "outputId": "2c58948b-ab90-4a8d-fd96-b73eacdfe637"
      },
      "source": [
        "wandb_group = \"ds8\"\n",
        "wandb_project = \"ds15-inclass\"\n",
        "wandb.init(project=wandb_project, entity=wandb_group) #Initializes and Experiment\n",
        "\n",
        "# Important Hyperparameters\n",
        "X =  x_train\n",
        "y =  y_train\n",
        "\n",
        "inputs = X.shape[1]\n",
        "wandb.config.epochs = 50\n",
        "wandb.config.batch_size = 10\n",
        "\n",
        "# Create Model\n",
        "model = Sequential()\n",
        "model.add(Dense(64, activation='relu', input_shape=(inputs,)))\n",
        "model.add(Dense(64, activation='relu'))\n",
        "model.add(Dense(64, activation='relu'))\n",
        "model.add(Dense(1))\n",
        "# Compile Model\n",
        "model.compile(optimizer='adam', loss='mse', metrics=['mse', 'mae'])\n",
        "\n",
        "# Fit Model\n",
        "model.fit(X, y, \n",
        "          validation_split=0.33, \n",
        "          epochs=wandb.config.epochs, \n",
        "          batch_size=wandb.config.batch_size, \n",
        "          callbacks=[WandbCallback()]\n",
        "         )"
      ],
      "execution_count": 15,
      "outputs": [
        {
          "output_type": "display_data",
          "data": {
            "text/html": [
              "\n",
              "                Logging results to <a href=\"https://wandb.com\" target=\"_blank\">Weights & Biases</a> <a href=\"https://docs.wandb.com/integrations/jupyter.html\" target=\"_blank\">(Documentation)</a>.<br/>\n",
              "                Project page: <a href=\"https://app.wandb.ai/ds8/ds15-inclass\" target=\"_blank\">https://app.wandb.ai/ds8/ds15-inclass</a><br/>\n",
              "                Run page: <a href=\"https://app.wandb.ai/ds8/ds15-inclass/runs/2fug30tt\" target=\"_blank\">https://app.wandb.ai/ds8/ds15-inclass/runs/2fug30tt</a><br/>\n",
              "            "
            ],
            "text/plain": [
              "<IPython.core.display.HTML object>"
            ]
          },
          "metadata": {
            "tags": []
          }
        },
        {
          "output_type": "stream",
          "text": [
            "Epoch 1/50\n",
            "27/27 [==============================] - 0s 8ms/step - loss: 497.7240 - mse: 497.7240 - mae: 20.5031 - val_loss: 486.0810 - val_mse: 486.0810 - val_mae: 19.7873\n",
            "Epoch 2/50\n",
            "27/27 [==============================] - 0s 7ms/step - loss: 241.0911 - mse: 241.0911 - mae: 12.9475 - val_loss: 110.3251 - val_mse: 110.3251 - val_mae: 7.8968\n",
            "Epoch 3/50\n",
            "27/27 [==============================] - 0s 8ms/step - loss: 57.2603 - mse: 57.2603 - mae: 5.3985 - val_loss: 54.8475 - val_mse: 54.8475 - val_mae: 5.2121\n",
            "Epoch 4/50\n",
            "27/27 [==============================] - 0s 15ms/step - loss: 27.0231 - mse: 27.0231 - mae: 3.7786 - val_loss: 36.4548 - val_mse: 36.4548 - val_mae: 3.8358\n",
            "Epoch 5/50\n",
            "27/27 [==============================] - 0s 5ms/step - loss: 19.1232 - mse: 19.1232 - mae: 3.0856 - val_loss: 31.2524 - val_mse: 31.2524 - val_mae: 3.4115\n",
            "Epoch 6/50\n",
            "27/27 [==============================] - 0s 5ms/step - loss: 16.0432 - mse: 16.0432 - mae: 2.7765 - val_loss: 28.1205 - val_mse: 28.1205 - val_mae: 3.1471\n",
            "Epoch 7/50\n",
            "27/27 [==============================] - 0s 5ms/step - loss: 14.3762 - mse: 14.3762 - mae: 2.6044 - val_loss: 25.7093 - val_mse: 25.7093 - val_mae: 3.0106\n",
            "Epoch 8/50\n",
            "27/27 [==============================] - 0s 5ms/step - loss: 12.6012 - mse: 12.6012 - mae: 2.4894 - val_loss: 24.4946 - val_mse: 24.4946 - val_mae: 2.9076\n",
            "Epoch 9/50\n",
            "27/27 [==============================] - 0s 5ms/step - loss: 11.4417 - mse: 11.4417 - mae: 2.3735 - val_loss: 23.5705 - val_mse: 23.5705 - val_mae: 2.8917\n",
            "Epoch 10/50\n",
            "27/27 [==============================] - 0s 5ms/step - loss: 10.9252 - mse: 10.9252 - mae: 2.3663 - val_loss: 21.6344 - val_mse: 21.6344 - val_mae: 2.8072\n",
            "Epoch 11/50\n",
            "27/27 [==============================] - 0s 6ms/step - loss: 10.3758 - mse: 10.3758 - mae: 2.2957 - val_loss: 20.3713 - val_mse: 20.3713 - val_mae: 2.7683\n",
            "Epoch 12/50\n",
            "27/27 [==============================] - 0s 4ms/step - loss: 9.7938 - mse: 9.7938 - mae: 2.2989 - val_loss: 20.4111 - val_mse: 20.4111 - val_mae: 2.7763\n",
            "Epoch 13/50\n",
            "27/27 [==============================] - 0s 5ms/step - loss: 9.1785 - mse: 9.1785 - mae: 2.2020 - val_loss: 19.7048 - val_mse: 19.7048 - val_mae: 2.8146\n",
            "Epoch 14/50\n",
            "27/27 [==============================] - 0s 5ms/step - loss: 8.8946 - mse: 8.8946 - mae: 2.1961 - val_loss: 18.9687 - val_mse: 18.9687 - val_mae: 2.7494\n",
            "Epoch 15/50\n",
            "27/27 [==============================] - 0s 5ms/step - loss: 8.6031 - mse: 8.6031 - mae: 2.1088 - val_loss: 18.3187 - val_mse: 18.3187 - val_mae: 2.7449\n",
            "Epoch 16/50\n",
            "27/27 [==============================] - 0s 4ms/step - loss: 8.1672 - mse: 8.1672 - mae: 2.1521 - val_loss: 18.7240 - val_mse: 18.7240 - val_mae: 2.7956\n",
            "Epoch 17/50\n",
            "27/27 [==============================] - 0s 5ms/step - loss: 8.3582 - mse: 8.3582 - mae: 2.1260 - val_loss: 17.7008 - val_mse: 17.7008 - val_mae: 2.7111\n",
            "Epoch 18/50\n",
            "27/27 [==============================] - 0s 4ms/step - loss: 7.9386 - mse: 7.9386 - mae: 2.0303 - val_loss: 17.8157 - val_mse: 17.8157 - val_mae: 2.7299\n",
            "Epoch 19/50\n",
            "27/27 [==============================] - 0s 4ms/step - loss: 7.6450 - mse: 7.6450 - mae: 2.0682 - val_loss: 18.2746 - val_mse: 18.2746 - val_mae: 2.8878\n",
            "Epoch 20/50\n",
            "27/27 [==============================] - 0s 5ms/step - loss: 7.7366 - mse: 7.7366 - mae: 2.0643 - val_loss: 16.7551 - val_mse: 16.7551 - val_mae: 2.7155\n",
            "Epoch 21/50\n",
            "27/27 [==============================] - 0s 4ms/step - loss: 7.3194 - mse: 7.3194 - mae: 2.0416 - val_loss: 17.5620 - val_mse: 17.5620 - val_mae: 2.7728\n",
            "Epoch 22/50\n",
            "27/27 [==============================] - 0s 4ms/step - loss: 7.0222 - mse: 7.0222 - mae: 1.9670 - val_loss: 17.3658 - val_mse: 17.3658 - val_mae: 2.7697\n",
            "Epoch 23/50\n",
            "27/27 [==============================] - 0s 5ms/step - loss: 6.8903 - mse: 6.8903 - mae: 1.9311 - val_loss: 16.2511 - val_mse: 16.2511 - val_mae: 2.6555\n",
            "Epoch 24/50\n",
            "27/27 [==============================] - 0s 4ms/step - loss: 6.3891 - mse: 6.3891 - mae: 1.8696 - val_loss: 16.9665 - val_mse: 16.9665 - val_mae: 2.7141\n",
            "Epoch 25/50\n",
            "27/27 [==============================] - 0s 4ms/step - loss: 6.2788 - mse: 6.2788 - mae: 1.8496 - val_loss: 16.8247 - val_mse: 16.8247 - val_mae: 2.6872\n",
            "Epoch 26/50\n",
            "27/27 [==============================] - 0s 6ms/step - loss: 5.9860 - mse: 5.9860 - mae: 1.8149 - val_loss: 16.0969 - val_mse: 16.0969 - val_mae: 2.6452\n",
            "Epoch 27/50\n",
            "27/27 [==============================] - 0s 3ms/step - loss: 5.9067 - mse: 5.9067 - mae: 1.8016 - val_loss: 16.2812 - val_mse: 16.2812 - val_mae: 2.6686\n",
            "Epoch 28/50\n",
            "27/27 [==============================] - 0s 4ms/step - loss: 5.8043 - mse: 5.8043 - mae: 1.7951 - val_loss: 16.5133 - val_mse: 16.5133 - val_mae: 2.6987\n",
            "Epoch 29/50\n",
            "27/27 [==============================] - 0s 4ms/step - loss: 5.8047 - mse: 5.8047 - mae: 1.7915 - val_loss: 18.1002 - val_mse: 18.1002 - val_mae: 2.8963\n",
            "Epoch 30/50\n",
            "27/27 [==============================] - 0s 4ms/step - loss: 6.1749 - mse: 6.1749 - mae: 1.8436 - val_loss: 16.4731 - val_mse: 16.4731 - val_mae: 2.6719\n",
            "Epoch 31/50\n",
            "27/27 [==============================] - 0s 4ms/step - loss: 5.6873 - mse: 5.6873 - mae: 1.7506 - val_loss: 16.9255 - val_mse: 16.9255 - val_mae: 2.7196\n",
            "Epoch 32/50\n",
            "27/27 [==============================] - 0s 4ms/step - loss: 5.5479 - mse: 5.5479 - mae: 1.7670 - val_loss: 16.2441 - val_mse: 16.2441 - val_mae: 2.6452\n",
            "Epoch 33/50\n",
            "27/27 [==============================] - 0s 4ms/step - loss: 5.6119 - mse: 5.6119 - mae: 1.7450 - val_loss: 16.9603 - val_mse: 16.9603 - val_mae: 2.7397\n",
            "Epoch 34/50\n",
            "27/27 [==============================] - 0s 5ms/step - loss: 5.5463 - mse: 5.5463 - mae: 1.7613 - val_loss: 15.8991 - val_mse: 15.8991 - val_mae: 2.6095\n",
            "Epoch 35/50\n",
            "27/27 [==============================] - 0s 4ms/step - loss: 5.0001 - mse: 5.0001 - mae: 1.6401 - val_loss: 16.1815 - val_mse: 16.1815 - val_mae: 2.6793\n",
            "Epoch 36/50\n",
            "27/27 [==============================] - 0s 5ms/step - loss: 5.1621 - mse: 5.1621 - mae: 1.6912 - val_loss: 15.8522 - val_mse: 15.8522 - val_mae: 2.6527\n",
            "Epoch 37/50\n",
            "27/27 [==============================] - 0s 5ms/step - loss: 4.7629 - mse: 4.7629 - mae: 1.6014 - val_loss: 15.6767 - val_mse: 15.6767 - val_mae: 2.5974\n",
            "Epoch 38/50\n",
            "27/27 [==============================] - 0s 4ms/step - loss: 4.7176 - mse: 4.7176 - mae: 1.6245 - val_loss: 17.0963 - val_mse: 17.0963 - val_mae: 2.7780\n",
            "Epoch 39/50\n",
            "27/27 [==============================] - 0s 3ms/step - loss: 4.9301 - mse: 4.9301 - mae: 1.6534 - val_loss: 15.9824 - val_mse: 15.9824 - val_mae: 2.6365\n",
            "Epoch 40/50\n",
            "27/27 [==============================] - 0s 5ms/step - loss: 4.6225 - mse: 4.6225 - mae: 1.5842 - val_loss: 15.4754 - val_mse: 15.4754 - val_mae: 2.5992\n",
            "Epoch 41/50\n",
            "27/27 [==============================] - 0s 4ms/step - loss: 4.5102 - mse: 4.5102 - mae: 1.5478 - val_loss: 16.0261 - val_mse: 16.0261 - val_mae: 2.6339\n",
            "Epoch 42/50\n",
            "27/27 [==============================] - 0s 4ms/step - loss: 5.1148 - mse: 5.1148 - mae: 1.7213 - val_loss: 16.6118 - val_mse: 16.6118 - val_mae: 2.7327\n",
            "Epoch 43/50\n",
            "27/27 [==============================] - 0s 4ms/step - loss: 4.4585 - mse: 4.4585 - mae: 1.5715 - val_loss: 15.7873 - val_mse: 15.7873 - val_mae: 2.6484\n",
            "Epoch 44/50\n",
            "27/27 [==============================] - 0s 4ms/step - loss: 4.2936 - mse: 4.2936 - mae: 1.5320 - val_loss: 15.6614 - val_mse: 15.6614 - val_mae: 2.6155\n",
            "Epoch 45/50\n",
            "27/27 [==============================] - 0s 4ms/step - loss: 4.2242 - mse: 4.2242 - mae: 1.5421 - val_loss: 15.8136 - val_mse: 15.8136 - val_mae: 2.6603\n",
            "Epoch 46/50\n",
            "27/27 [==============================] - 0s 4ms/step - loss: 4.2351 - mse: 4.2351 - mae: 1.5521 - val_loss: 15.5491 - val_mse: 15.5491 - val_mae: 2.6271\n",
            "Epoch 47/50\n",
            "27/27 [==============================] - 0s 5ms/step - loss: 4.0094 - mse: 4.0094 - mae: 1.4668 - val_loss: 15.4437 - val_mse: 15.4437 - val_mae: 2.5812\n",
            "Epoch 48/50\n",
            "27/27 [==============================] - 0s 4ms/step - loss: 4.1781 - mse: 4.1781 - mae: 1.4835 - val_loss: 16.1718 - val_mse: 16.1718 - val_mae: 2.7400\n",
            "Epoch 49/50\n",
            "27/27 [==============================] - 0s 5ms/step - loss: 4.1593 - mse: 4.1593 - mae: 1.4873 - val_loss: 15.4410 - val_mse: 15.4410 - val_mae: 2.5895\n",
            "Epoch 50/50\n",
            "27/27 [==============================] - 0s 4ms/step - loss: 3.9756 - mse: 3.9756 - mae: 1.4925 - val_loss: 15.5166 - val_mse: 15.5166 - val_mae: 2.6555\n"
          ],
          "name": "stdout"
        },
        {
          "output_type": "execute_result",
          "data": {
            "text/plain": [
              "<tensorflow.python.keras.callbacks.History at 0x7fde4d3764e0>"
            ]
          },
          "metadata": {
            "tags": []
          },
          "execution_count": 15
        }
      ]
    },
    {
      "cell_type": "markdown",
      "metadata": {
        "id": "pq7OpUSDX8uR",
        "colab_type": "text"
      },
      "source": [
        "### Your Turn\n",
        "\n",
        "Pick a few hyparameters that we *have not* tuned. Using the same code above, try changing a few parameters you're interested in and submitting the results to weights & biases. :) "
      ]
    },
    {
      "cell_type": "code",
      "metadata": {
        "id": "fhQ-U_OAX8uR",
        "colab_type": "code",
        "colab": {}
      },
      "source": [
        "wandb.init(project=wandb_project, entity=wand_group) #Initializes and Experiment\n",
        "\n",
        "wandb.config.epochs = 50\n",
        "wandb.config.batch_size = 10\n",
        "\n",
        "\n",
        "# Fit Model\n",
        "model.fit(\n",
        "          callbacks=[WandbCallback()]\n",
        "         )"
      ],
      "execution_count": null,
      "outputs": []
    },
    {
      "cell_type": "markdown",
      "metadata": {
        "id": "s0s7mLS1X8uU",
        "colab_type": "text"
      },
      "source": [
        "## Challenge\n",
        "\n",
        "You will be expected to use Weights & Biases to try to tune your model during your module assignment today. "
      ]
    },
    {
      "cell_type": "markdown",
      "metadata": {
        "id": "diaSRHfnX8uU",
        "colab_type": "text"
      },
      "source": [
        "# Hyperparameters with RandomSearchCV (Learn)"
      ]
    },
    {
      "cell_type": "markdown",
      "metadata": {
        "id": "AZTiRoBCX8uU",
        "colab_type": "text"
      },
      "source": [
        "## Overview\n",
        "\n",
        "Basically `GridSearchCV` takes forever. You'll want to adopt a slightly more sophiscated strategy.\n",
        "\n",
        "Let's also take a look at an alternative with Keras-Tuner."
      ]
    },
    {
      "cell_type": "code",
      "metadata": {
        "id": "BdGEhISzX8uV",
        "colab_type": "code",
        "colab": {
          "base_uri": "https://localhost:8080/",
          "height": 510
        },
        "outputId": "f5c2d744-8911-410d-a202-93c1651e3266"
      },
      "source": [
        "!pip install keras-tuner"
      ],
      "execution_count": 16,
      "outputs": [
        {
          "output_type": "stream",
          "text": [
            "Collecting keras-tuner\n",
            "\u001b[?25l  Downloading https://files.pythonhosted.org/packages/a7/f7/4b41b6832abf4c9bef71a664dc563adb25afc5812831667c6db572b1a261/keras-tuner-1.0.1.tar.gz (54kB)\n",
            "\r\u001b[K     |██████                          | 10kB 16.0MB/s eta 0:00:01\r\u001b[K     |████████████                    | 20kB 1.8MB/s eta 0:00:01\r\u001b[K     |██████████████████              | 30kB 2.3MB/s eta 0:00:01\r\u001b[K     |████████████████████████        | 40kB 2.6MB/s eta 0:00:01\r\u001b[K     |██████████████████████████████  | 51kB 2.0MB/s eta 0:00:01\r\u001b[K     |████████████████████████████████| 61kB 1.8MB/s \n",
            "\u001b[?25hRequirement already satisfied: future in /usr/local/lib/python3.6/dist-packages (from keras-tuner) (0.16.0)\n",
            "Requirement already satisfied: numpy in /usr/local/lib/python3.6/dist-packages (from keras-tuner) (1.18.5)\n",
            "Requirement already satisfied: tabulate in /usr/local/lib/python3.6/dist-packages (from keras-tuner) (0.8.7)\n",
            "Collecting terminaltables\n",
            "  Downloading https://files.pythonhosted.org/packages/9b/c4/4a21174f32f8a7e1104798c445dacdc1d4df86f2f26722767034e4de4bff/terminaltables-3.1.0.tar.gz\n",
            "Collecting colorama\n",
            "  Downloading https://files.pythonhosted.org/packages/c9/dc/45cdef1b4d119eb96316b3117e6d5708a08029992b2fee2c143c7a0a5cc5/colorama-0.4.3-py2.py3-none-any.whl\n",
            "Requirement already satisfied: tqdm in /usr/local/lib/python3.6/dist-packages (from keras-tuner) (4.41.1)\n",
            "Requirement already satisfied: requests in /usr/local/lib/python3.6/dist-packages (from keras-tuner) (2.23.0)\n",
            "Requirement already satisfied: scipy in /usr/local/lib/python3.6/dist-packages (from keras-tuner) (1.4.1)\n",
            "Requirement already satisfied: scikit-learn in /usr/local/lib/python3.6/dist-packages (from keras-tuner) (0.22.2.post1)\n",
            "Requirement already satisfied: chardet<4,>=3.0.2 in /usr/local/lib/python3.6/dist-packages (from requests->keras-tuner) (3.0.4)\n",
            "Requirement already satisfied: urllib3!=1.25.0,!=1.25.1,<1.26,>=1.21.1 in /usr/local/lib/python3.6/dist-packages (from requests->keras-tuner) (1.24.3)\n",
            "Requirement already satisfied: certifi>=2017.4.17 in /usr/local/lib/python3.6/dist-packages (from requests->keras-tuner) (2020.6.20)\n",
            "Requirement already satisfied: idna<3,>=2.5 in /usr/local/lib/python3.6/dist-packages (from requests->keras-tuner) (2.10)\n",
            "Requirement already satisfied: joblib>=0.11 in /usr/local/lib/python3.6/dist-packages (from scikit-learn->keras-tuner) (0.16.0)\n",
            "Building wheels for collected packages: keras-tuner, terminaltables\n",
            "  Building wheel for keras-tuner (setup.py) ... \u001b[?25l\u001b[?25hdone\n",
            "  Created wheel for keras-tuner: filename=keras_tuner-1.0.1-cp36-none-any.whl size=73200 sha256=e6eec4e5accc67ed788c567a68e362d80001724f9ac15348f6c6b060d7659956\n",
            "  Stored in directory: /root/.cache/pip/wheels/b9/cc/62/52716b70dd90f3db12519233c3a93a5360bc672da1a10ded43\n",
            "  Building wheel for terminaltables (setup.py) ... \u001b[?25l\u001b[?25hdone\n",
            "  Created wheel for terminaltables: filename=terminaltables-3.1.0-cp36-none-any.whl size=15356 sha256=3ab056516c8dbbde1ae46832ab470d1eb7e550d085cd4dbed70b0f44c5a9d2ff\n",
            "  Stored in directory: /root/.cache/pip/wheels/30/6b/50/6c75775b681fb36cdfac7f19799888ef9d8813aff9e379663e\n",
            "Successfully built keras-tuner terminaltables\n",
            "Installing collected packages: terminaltables, colorama, keras-tuner\n",
            "Successfully installed colorama-0.4.3 keras-tuner-1.0.1 terminaltables-3.1.0\n"
          ],
          "name": "stdout"
        }
      ]
    },
    {
      "cell_type": "markdown",
      "metadata": {
        "id": "w7BbIJMNX8uX",
        "colab_type": "text"
      },
      "source": [
        "## Follow Along"
      ]
    },
    {
      "cell_type": "code",
      "metadata": {
        "id": "RSMqCuEUX8uX",
        "colab_type": "code",
        "colab": {}
      },
      "source": [
        "from tensorflow import keras\n",
        "from tensorflow.keras import layers\n",
        "from kerastuner.tuners import RandomSearch\n",
        "\n",
        "\"\"\"\n",
        "This model Tunes:\n",
        "- Number of Neurons in the Hidden Layer\n",
        "- Learning Rate in Adam\n",
        "\n",
        "\"\"\"\n",
        "\n",
        "def build_model(hp):\n",
        "    model = keras.Sequential()\n",
        "    model.add(layers.Dense(units=hp.Int('units',\n",
        "                                        min_value=32,\n",
        "                                        max_value=512,\n",
        "                                        step=32),\n",
        "                           activation='relu'))\n",
        "    model.add(layers.Dense(1))\n",
        "    model.compile(\n",
        "        optimizer=keras.optimizers.Adam(\n",
        "            hp.Choice('learning_rate',\n",
        "                      values=[1e-2, 1e-3, 1e-4])),\n",
        "        loss='mse',\n",
        "        metrics=['mae'])\n",
        "    \n",
        "    return model"
      ],
      "execution_count": 17,
      "outputs": []
    },
    {
      "cell_type": "code",
      "metadata": {
        "id": "kfUcW1Z1X8uZ",
        "colab_type": "code",
        "colab": {}
      },
      "source": [
        "tuner = RandomSearch(\n",
        "    build_model,\n",
        "    objective='val_mae',\n",
        "    max_trials=5,\n",
        "    executions_per_trial=3,\n",
        "    directory='./keras-tuner-trial',\n",
        "    project_name='boston_housing')"
      ],
      "execution_count": 18,
      "outputs": []
    },
    {
      "cell_type": "code",
      "metadata": {
        "id": "9xsKDkN0X8ud",
        "colab_type": "code",
        "colab": {
          "base_uri": "https://localhost:8080/",
          "height": 281
        },
        "outputId": "fb577725-92f6-4ca2-824d-0edce53e8d22"
      },
      "source": [
        "tuner.search_space_summary()"
      ],
      "execution_count": 19,
      "outputs": [
        {
          "output_type": "display_data",
          "data": {
            "text/html": [
              "<span style=\"color:#4527A0\"><h1 style=\"font-size:18px\">Search space summary</h1></span>"
            ],
            "text/plain": [
              "<IPython.core.display.HTML object>"
            ]
          },
          "metadata": {
            "tags": []
          }
        },
        {
          "output_type": "display_data",
          "data": {
            "text/html": [
              "<span style=\"color:cyan\"> |-Default search space size: 2</span>"
            ],
            "text/plain": [
              "<IPython.core.display.HTML object>"
            ]
          },
          "metadata": {
            "tags": []
          }
        },
        {
          "output_type": "display_data",
          "data": {
            "text/html": [
              "<span style=\"color:#7E57C2\"><h2 style=\"font-size:16px\">units (Int)</h2></span>"
            ],
            "text/plain": [
              "<IPython.core.display.HTML object>"
            ]
          },
          "metadata": {
            "tags": []
          }
        },
        {
          "output_type": "display_data",
          "data": {
            "text/html": [
              "<span style=\"color:cyan\"> |-default: None</span>"
            ],
            "text/plain": [
              "<IPython.core.display.HTML object>"
            ]
          },
          "metadata": {
            "tags": []
          }
        },
        {
          "output_type": "display_data",
          "data": {
            "text/html": [
              "<span style=\"color:blue\"> |-max_value: 512</span>"
            ],
            "text/plain": [
              "<IPython.core.display.HTML object>"
            ]
          },
          "metadata": {
            "tags": []
          }
        },
        {
          "output_type": "display_data",
          "data": {
            "text/html": [
              "<span style=\"color:cyan\"> |-min_value: 32</span>"
            ],
            "text/plain": [
              "<IPython.core.display.HTML object>"
            ]
          },
          "metadata": {
            "tags": []
          }
        },
        {
          "output_type": "display_data",
          "data": {
            "text/html": [
              "<span style=\"color:blue\"> |-sampling: None</span>"
            ],
            "text/plain": [
              "<IPython.core.display.HTML object>"
            ]
          },
          "metadata": {
            "tags": []
          }
        },
        {
          "output_type": "display_data",
          "data": {
            "text/html": [
              "<span style=\"color:cyan\"> |-step: 32</span>"
            ],
            "text/plain": [
              "<IPython.core.display.HTML object>"
            ]
          },
          "metadata": {
            "tags": []
          }
        },
        {
          "output_type": "display_data",
          "data": {
            "text/html": [
              "<span style=\"color:#7E57C2\"><h2 style=\"font-size:16px\">learning_rate (Choice)</h2></span>"
            ],
            "text/plain": [
              "<IPython.core.display.HTML object>"
            ]
          },
          "metadata": {
            "tags": []
          }
        },
        {
          "output_type": "display_data",
          "data": {
            "text/html": [
              "<span style=\"color:cyan\"> |-default: 0.01</span>"
            ],
            "text/plain": [
              "<IPython.core.display.HTML object>"
            ]
          },
          "metadata": {
            "tags": []
          }
        },
        {
          "output_type": "display_data",
          "data": {
            "text/html": [
              "<span style=\"color:blue\"> |-ordered: True</span>"
            ],
            "text/plain": [
              "<IPython.core.display.HTML object>"
            ]
          },
          "metadata": {
            "tags": []
          }
        },
        {
          "output_type": "display_data",
          "data": {
            "text/html": [
              "<span style=\"color:cyan\"> |-values: [0.01, 0.001, 0.0001]</span>"
            ],
            "text/plain": [
              "<IPython.core.display.HTML object>"
            ]
          },
          "metadata": {
            "tags": []
          }
        }
      ]
    },
    {
      "cell_type": "code",
      "metadata": {
        "id": "YUctVgHMX8uf",
        "colab_type": "code",
        "colab": {
          "base_uri": "https://localhost:8080/",
          "height": 1000
        },
        "outputId": "a7416ee3-2a2b-46c5-93e9-9bb4da64745b"
      },
      "source": [
        "tuner.search(X, y,\n",
        "             epochs=5,\n",
        "             validation_split=.2)"
      ],
      "execution_count": 22,
      "outputs": [
        {
          "output_type": "stream",
          "text": [
            "Epoch 1/5\n",
            "WARNING:tensorflow:Layer dense is casting an input tensor from dtype float64 to the layer's dtype of float32, which is new behavior in TensorFlow 2.  The layer has dtype float32 because it's dtype defaults to floatx.\n",
            "\n",
            "If you intended to run this layer in float32, you can safely ignore this warning. If in doubt, this warning is likely only an issue if you are porting a TensorFlow 1.X model to TensorFlow 2.\n",
            "\n",
            "To change all layers to have dtype float64 by default, call `tf.keras.backend.set_floatx('float64')`. To change just this layer, pass dtype='float64' to the layer constructor. If you are the author of this layer, you can disable autocasting by passing autocast=False to the base Layer constructor.\n",
            "\n",
            "11/11 [==============================] - 0s 14ms/step - loss: 467.9434 - mae: 19.5989 - val_loss: 380.2011 - val_mae: 17.1665\n",
            "Epoch 2/5\n",
            "11/11 [==============================] - 0s 7ms/step - loss: 209.9185 - mae: 12.0224 - val_loss: 143.9227 - val_mae: 8.9852\n",
            "Epoch 3/5\n",
            "11/11 [==============================] - 0s 6ms/step - loss: 81.5252 - mae: 7.1358 - val_loss: 76.9302 - val_mae: 6.5562\n",
            "Epoch 4/5\n",
            "11/11 [==============================] - 0s 7ms/step - loss: 42.4346 - mae: 4.7190 - val_loss: 35.5622 - val_mae: 4.4208\n",
            "Epoch 5/5\n",
            "11/11 [==============================] - 0s 7ms/step - loss: 26.6942 - mae: 3.6226 - val_loss: 27.6040 - val_mae: 3.8672\n",
            "Epoch 1/5\n",
            "WARNING:tensorflow:Layer dense is casting an input tensor from dtype float64 to the layer's dtype of float32, which is new behavior in TensorFlow 2.  The layer has dtype float32 because it's dtype defaults to floatx.\n",
            "\n",
            "If you intended to run this layer in float32, you can safely ignore this warning. If in doubt, this warning is likely only an issue if you are porting a TensorFlow 1.X model to TensorFlow 2.\n",
            "\n",
            "To change all layers to have dtype float64 by default, call `tf.keras.backend.set_floatx('float64')`. To change just this layer, pass dtype='float64' to the layer constructor. If you are the author of this layer, you can disable autocasting by passing autocast=False to the base Layer constructor.\n",
            "\n",
            "11/11 [==============================] - 0s 12ms/step - loss: 452.9010 - mae: 19.1171 - val_loss: 353.6466 - val_mae: 16.4175\n",
            "Epoch 2/5\n",
            "11/11 [==============================] - 0s 7ms/step - loss: 190.6986 - mae: 11.5224 - val_loss: 124.2758 - val_mae: 8.7253\n",
            "Epoch 3/5\n",
            "11/11 [==============================] - 0s 6ms/step - loss: 81.0462 - mae: 6.9893 - val_loss: 70.3301 - val_mae: 6.4699\n",
            "Epoch 4/5\n",
            "11/11 [==============================] - 0s 6ms/step - loss: 39.9099 - mae: 4.4405 - val_loss: 33.8600 - val_mae: 4.3977\n",
            "Epoch 5/5\n",
            "11/11 [==============================] - 0s 6ms/step - loss: 29.2764 - mae: 3.8753 - val_loss: 28.8719 - val_mae: 3.9893\n",
            "Epoch 1/5\n",
            "WARNING:tensorflow:Layer dense is casting an input tensor from dtype float64 to the layer's dtype of float32, which is new behavior in TensorFlow 2.  The layer has dtype float32 because it's dtype defaults to floatx.\n",
            "\n",
            "If you intended to run this layer in float32, you can safely ignore this warning. If in doubt, this warning is likely only an issue if you are porting a TensorFlow 1.X model to TensorFlow 2.\n",
            "\n",
            "To change all layers to have dtype float64 by default, call `tf.keras.backend.set_floatx('float64')`. To change just this layer, pass dtype='float64' to the layer constructor. If you are the author of this layer, you can disable autocasting by passing autocast=False to the base Layer constructor.\n",
            "\n",
            "11/11 [==============================] - 0s 12ms/step - loss: 466.8437 - mae: 19.7501 - val_loss: 364.8804 - val_mae: 17.1189\n",
            "Epoch 2/5\n",
            "11/11 [==============================] - 0s 7ms/step - loss: 199.4690 - mae: 11.8697 - val_loss: 132.4649 - val_mae: 8.8460\n",
            "Epoch 3/5\n",
            "11/11 [==============================] - 0s 6ms/step - loss: 90.6455 - mae: 7.4359 - val_loss: 80.5119 - val_mae: 6.9586\n",
            "Epoch 4/5\n",
            "11/11 [==============================] - 0s 6ms/step - loss: 47.4664 - mae: 5.0653 - val_loss: 42.0387 - val_mae: 4.9761\n",
            "Epoch 5/5\n",
            "11/11 [==============================] - 0s 6ms/step - loss: 29.8338 - mae: 3.8200 - val_loss: 31.3203 - val_mae: 4.1281\n"
          ],
          "name": "stdout"
        },
        {
          "output_type": "display_data",
          "data": {
            "text/html": [
              "<span style=\"color:#4527A0\"><h1 style=\"font-size:18px\">Trial complete</h1></span>"
            ],
            "text/plain": [
              "<IPython.core.display.HTML object>"
            ]
          },
          "metadata": {
            "tags": []
          }
        },
        {
          "output_type": "display_data",
          "data": {
            "text/html": [
              "<span style=\"color:#4527A0\"><h1 style=\"font-size:18px\">Trial summary</h1></span>"
            ],
            "text/plain": [
              "<IPython.core.display.HTML object>"
            ]
          },
          "metadata": {
            "tags": []
          }
        },
        {
          "output_type": "display_data",
          "data": {
            "text/html": [
              "<span style=\"color:cyan\"> |-Trial ID: 48d989de0f75b5fd702272bbc1fdd8ce</span>"
            ],
            "text/plain": [
              "<IPython.core.display.HTML object>"
            ]
          },
          "metadata": {
            "tags": []
          }
        },
        {
          "output_type": "display_data",
          "data": {
            "text/html": [
              "<span style=\"color:cyan\"> |-Score: 3.994849999745687</span>"
            ],
            "text/plain": [
              "<IPython.core.display.HTML object>"
            ]
          },
          "metadata": {
            "tags": []
          }
        },
        {
          "output_type": "display_data",
          "data": {
            "text/html": [
              "<span style=\"color:cyan\"> |-Best step: 0</span>"
            ],
            "text/plain": [
              "<IPython.core.display.HTML object>"
            ]
          },
          "metadata": {
            "tags": []
          }
        },
        {
          "output_type": "display_data",
          "data": {
            "text/html": [
              "<span style=\"color:#7E57C2\"><h2 style=\"font-size:16px\">Hyperparameters:</h2></span>"
            ],
            "text/plain": [
              "<IPython.core.display.HTML object>"
            ]
          },
          "metadata": {
            "tags": []
          }
        },
        {
          "output_type": "display_data",
          "data": {
            "text/html": [
              "<span style=\"color:cyan\"> |-learning_rate: 0.01</span>"
            ],
            "text/plain": [
              "<IPython.core.display.HTML object>"
            ]
          },
          "metadata": {
            "tags": []
          }
        },
        {
          "output_type": "display_data",
          "data": {
            "text/html": [
              "<span style=\"color:blue\"> |-units: 128</span>"
            ],
            "text/plain": [
              "<IPython.core.display.HTML object>"
            ]
          },
          "metadata": {
            "tags": []
          }
        },
        {
          "output_type": "stream",
          "text": [
            "Epoch 1/5\n",
            "WARNING:tensorflow:Layer dense is casting an input tensor from dtype float64 to the layer's dtype of float32, which is new behavior in TensorFlow 2.  The layer has dtype float32 because it's dtype defaults to floatx.\n",
            "\n",
            "If you intended to run this layer in float32, you can safely ignore this warning. If in doubt, this warning is likely only an issue if you are porting a TensorFlow 1.X model to TensorFlow 2.\n",
            "\n",
            "To change all layers to have dtype float64 by default, call `tf.keras.backend.set_floatx('float64')`. To change just this layer, pass dtype='float64' to the layer constructor. If you are the author of this layer, you can disable autocasting by passing autocast=False to the base Layer constructor.\n",
            "\n",
            "11/11 [==============================] - 0s 13ms/step - loss: 569.2271 - mae: 21.9878 - val_loss: 641.6465 - val_mae: 23.5589\n",
            "Epoch 2/5\n",
            "11/11 [==============================] - 0s 7ms/step - loss: 566.3313 - mae: 21.9225 - val_loss: 638.7535 - val_mae: 23.4971\n",
            "Epoch 3/5\n",
            "11/11 [==============================] - 0s 6ms/step - loss: 563.5088 - mae: 21.8583 - val_loss: 635.8764 - val_mae: 23.4355\n",
            "Epoch 4/5\n",
            "11/11 [==============================] - 0s 7ms/step - loss: 560.6994 - mae: 21.7933 - val_loss: 633.0284 - val_mae: 23.3739\n",
            "Epoch 5/5\n",
            "11/11 [==============================] - 0s 6ms/step - loss: 557.8928 - mae: 21.7303 - val_loss: 630.1248 - val_mae: 23.3133\n",
            "Epoch 1/5\n",
            "WARNING:tensorflow:Layer dense is casting an input tensor from dtype float64 to the layer's dtype of float32, which is new behavior in TensorFlow 2.  The layer has dtype float32 because it's dtype defaults to floatx.\n",
            "\n",
            "If you intended to run this layer in float32, you can safely ignore this warning. If in doubt, this warning is likely only an issue if you are porting a TensorFlow 1.X model to TensorFlow 2.\n",
            "\n",
            "To change all layers to have dtype float64 by default, call `tf.keras.backend.set_floatx('float64')`. To change just this layer, pass dtype='float64' to the layer constructor. If you are the author of this layer, you can disable autocasting by passing autocast=False to the base Layer constructor.\n",
            "\n",
            "11/11 [==============================] - 0s 11ms/step - loss: 568.0981 - mae: 22.0111 - val_loss: 637.6438 - val_mae: 23.5206\n",
            "Epoch 2/5\n",
            "11/11 [==============================] - 0s 6ms/step - loss: 565.1896 - mae: 21.9482 - val_loss: 634.7462 - val_mae: 23.4601\n",
            "Epoch 3/5\n",
            "11/11 [==============================] - 0s 6ms/step - loss: 562.4092 - mae: 21.8859 - val_loss: 631.8979 - val_mae: 23.3998\n",
            "Epoch 4/5\n",
            "11/11 [==============================] - 0s 6ms/step - loss: 559.6720 - mae: 21.8241 - val_loss: 629.1263 - val_mae: 23.3402\n",
            "Epoch 5/5\n",
            "11/11 [==============================] - 0s 6ms/step - loss: 557.0008 - mae: 21.7638 - val_loss: 626.3188 - val_mae: 23.2814\n",
            "Epoch 1/5\n",
            "WARNING:tensorflow:Layer dense is casting an input tensor from dtype float64 to the layer's dtype of float32, which is new behavior in TensorFlow 2.  The layer has dtype float32 because it's dtype defaults to floatx.\n",
            "\n",
            "If you intended to run this layer in float32, you can safely ignore this warning. If in doubt, this warning is likely only an issue if you are porting a TensorFlow 1.X model to TensorFlow 2.\n",
            "\n",
            "To change all layers to have dtype float64 by default, call `tf.keras.backend.set_floatx('float64')`. To change just this layer, pass dtype='float64' to the layer constructor. If you are the author of this layer, you can disable autocasting by passing autocast=False to the base Layer constructor.\n",
            "\n",
            "11/11 [==============================] - 0s 12ms/step - loss: 573.7245 - mae: 22.0946 - val_loss: 645.1888 - val_mae: 23.6417\n",
            "Epoch 2/5\n",
            "11/11 [==============================] - 0s 7ms/step - loss: 570.4123 - mae: 22.0248 - val_loss: 641.9000 - val_mae: 23.5744\n",
            "Epoch 3/5\n",
            "11/11 [==============================] - 0s 6ms/step - loss: 567.2527 - mae: 21.9568 - val_loss: 638.6277 - val_mae: 23.5071\n",
            "Epoch 4/5\n",
            "11/11 [==============================] - 0s 6ms/step - loss: 564.0398 - mae: 21.8878 - val_loss: 635.3763 - val_mae: 23.4401\n",
            "Epoch 5/5\n",
            "11/11 [==============================] - 0s 6ms/step - loss: 560.8940 - mae: 21.8205 - val_loss: 632.1143 - val_mae: 23.3731\n"
          ],
          "name": "stdout"
        },
        {
          "output_type": "display_data",
          "data": {
            "text/html": [
              "<span style=\"color:#4527A0\"><h1 style=\"font-size:18px\">Trial complete</h1></span>"
            ],
            "text/plain": [
              "<IPython.core.display.HTML object>"
            ]
          },
          "metadata": {
            "tags": []
          }
        },
        {
          "output_type": "display_data",
          "data": {
            "text/html": [
              "<span style=\"color:#4527A0\"><h1 style=\"font-size:18px\">Trial summary</h1></span>"
            ],
            "text/plain": [
              "<IPython.core.display.HTML object>"
            ]
          },
          "metadata": {
            "tags": []
          }
        },
        {
          "output_type": "display_data",
          "data": {
            "text/html": [
              "<span style=\"color:cyan\"> |-Trial ID: 4cd3214a20ddc09ea83f87fa88785778</span>"
            ],
            "text/plain": [
              "<IPython.core.display.HTML object>"
            ]
          },
          "metadata": {
            "tags": []
          }
        },
        {
          "output_type": "display_data",
          "data": {
            "text/html": [
              "<span style=\"color:cyan\"> |-Score: 23.322593688964844</span>"
            ],
            "text/plain": [
              "<IPython.core.display.HTML object>"
            ]
          },
          "metadata": {
            "tags": []
          }
        },
        {
          "output_type": "display_data",
          "data": {
            "text/html": [
              "<span style=\"color:cyan\"> |-Best step: 0</span>"
            ],
            "text/plain": [
              "<IPython.core.display.HTML object>"
            ]
          },
          "metadata": {
            "tags": []
          }
        },
        {
          "output_type": "display_data",
          "data": {
            "text/html": [
              "<span style=\"color:#7E57C2\"><h2 style=\"font-size:16px\">Hyperparameters:</h2></span>"
            ],
            "text/plain": [
              "<IPython.core.display.HTML object>"
            ]
          },
          "metadata": {
            "tags": []
          }
        },
        {
          "output_type": "display_data",
          "data": {
            "text/html": [
              "<span style=\"color:cyan\"> |-learning_rate: 0.0001</span>"
            ],
            "text/plain": [
              "<IPython.core.display.HTML object>"
            ]
          },
          "metadata": {
            "tags": []
          }
        },
        {
          "output_type": "display_data",
          "data": {
            "text/html": [
              "<span style=\"color:blue\"> |-units: 192</span>"
            ],
            "text/plain": [
              "<IPython.core.display.HTML object>"
            ]
          },
          "metadata": {
            "tags": []
          }
        },
        {
          "output_type": "stream",
          "text": [
            "Epoch 1/5\n",
            "WARNING:tensorflow:Layer dense is casting an input tensor from dtype float64 to the layer's dtype of float32, which is new behavior in TensorFlow 2.  The layer has dtype float32 because it's dtype defaults to floatx.\n",
            "\n",
            "If you intended to run this layer in float32, you can safely ignore this warning. If in doubt, this warning is likely only an issue if you are porting a TensorFlow 1.X model to TensorFlow 2.\n",
            "\n",
            "To change all layers to have dtype float64 by default, call `tf.keras.backend.set_floatx('float64')`. To change just this layer, pass dtype='float64' to the layer constructor. If you are the author of this layer, you can disable autocasting by passing autocast=False to the base Layer constructor.\n",
            "\n",
            "11/11 [==============================] - 0s 12ms/step - loss: 569.4363 - mae: 22.1089 - val_loss: 616.0549 - val_mae: 23.1126\n",
            "Epoch 2/5\n",
            "11/11 [==============================] - 0s 7ms/step - loss: 528.8580 - mae: 21.2064 - val_loss: 574.4160 - val_mae: 22.2221\n",
            "Epoch 3/5\n",
            "11/11 [==============================] - 0s 6ms/step - loss: 487.4289 - mae: 20.2620 - val_loss: 530.5924 - val_mae: 21.2416\n",
            "Epoch 4/5\n",
            "11/11 [==============================] - 0s 6ms/step - loss: 443.9613 - mae: 19.2137 - val_loss: 482.0291 - val_mae: 20.1002\n",
            "Epoch 5/5\n",
            "11/11 [==============================] - 0s 7ms/step - loss: 395.2492 - mae: 17.9981 - val_loss: 429.7092 - val_mae: 18.7877\n",
            "Epoch 1/5\n",
            "WARNING:tensorflow:Layer dense is casting an input tensor from dtype float64 to the layer's dtype of float32, which is new behavior in TensorFlow 2.  The layer has dtype float32 because it's dtype defaults to floatx.\n",
            "\n",
            "If you intended to run this layer in float32, you can safely ignore this warning. If in doubt, this warning is likely only an issue if you are porting a TensorFlow 1.X model to TensorFlow 2.\n",
            "\n",
            "To change all layers to have dtype float64 by default, call `tf.keras.backend.set_floatx('float64')`. To change just this layer, pass dtype='float64' to the layer constructor. If you are the author of this layer, you can disable autocasting by passing autocast=False to the base Layer constructor.\n",
            "\n",
            "11/11 [==============================] - 0s 12ms/step - loss: 559.7626 - mae: 21.8440 - val_loss: 605.8284 - val_mae: 22.8811\n",
            "Epoch 2/5\n",
            "11/11 [==============================] - 0s 6ms/step - loss: 518.5024 - mae: 20.9432 - val_loss: 565.4227 - val_mae: 21.9941\n",
            "Epoch 3/5\n",
            "11/11 [==============================] - 0s 6ms/step - loss: 478.3460 - mae: 20.0151 - val_loss: 522.6536 - val_mae: 21.0330\n",
            "Epoch 4/5\n",
            "11/11 [==============================] - 0s 6ms/step - loss: 435.3680 - mae: 18.9600 - val_loss: 476.6495 - val_mae: 19.9133\n",
            "Epoch 5/5\n",
            "11/11 [==============================] - 0s 7ms/step - loss: 388.7340 - mae: 17.7578 - val_loss: 426.7432 - val_mae: 18.6413\n",
            "Epoch 1/5\n",
            "WARNING:tensorflow:Layer dense is casting an input tensor from dtype float64 to the layer's dtype of float32, which is new behavior in TensorFlow 2.  The layer has dtype float32 because it's dtype defaults to floatx.\n",
            "\n",
            "If you intended to run this layer in float32, you can safely ignore this warning. If in doubt, this warning is likely only an issue if you are porting a TensorFlow 1.X model to TensorFlow 2.\n",
            "\n",
            "To change all layers to have dtype float64 by default, call `tf.keras.backend.set_floatx('float64')`. To change just this layer, pass dtype='float64' to the layer constructor. If you are the author of this layer, you can disable autocasting by passing autocast=False to the base Layer constructor.\n",
            "\n",
            "11/11 [==============================] - 0s 11ms/step - loss: 549.7404 - mae: 21.5679 - val_loss: 594.4009 - val_mae: 22.5903\n",
            "Epoch 2/5\n",
            "11/11 [==============================] - 0s 8ms/step - loss: 507.0070 - mae: 20.6216 - val_loss: 550.9150 - val_mae: 21.6334\n",
            "Epoch 3/5\n",
            "11/11 [==============================] - 0s 6ms/step - loss: 464.0175 - mae: 19.6208 - val_loss: 504.9064 - val_mae: 20.5745\n",
            "Epoch 4/5\n",
            "11/11 [==============================] - 0s 5ms/step - loss: 418.3563 - mae: 18.4877 - val_loss: 454.2941 - val_mae: 19.3441\n",
            "Epoch 5/5\n",
            "11/11 [==============================] - 0s 7ms/step - loss: 368.8155 - mae: 17.1874 - val_loss: 400.9933 - val_mae: 17.9852\n"
          ],
          "name": "stdout"
        },
        {
          "output_type": "display_data",
          "data": {
            "text/html": [
              "<span style=\"color:#4527A0\"><h1 style=\"font-size:18px\">Trial complete</h1></span>"
            ],
            "text/plain": [
              "<IPython.core.display.HTML object>"
            ]
          },
          "metadata": {
            "tags": []
          }
        },
        {
          "output_type": "display_data",
          "data": {
            "text/html": [
              "<span style=\"color:#4527A0\"><h1 style=\"font-size:18px\">Trial summary</h1></span>"
            ],
            "text/plain": [
              "<IPython.core.display.HTML object>"
            ]
          },
          "metadata": {
            "tags": []
          }
        },
        {
          "output_type": "display_data",
          "data": {
            "text/html": [
              "<span style=\"color:cyan\"> |-Trial ID: e62710ee26e514056d75fd1f73b0b96d</span>"
            ],
            "text/plain": [
              "<IPython.core.display.HTML object>"
            ]
          },
          "metadata": {
            "tags": []
          }
        },
        {
          "output_type": "display_data",
          "data": {
            "text/html": [
              "<span style=\"color:cyan\"> |-Score: 18.4713872273763</span>"
            ],
            "text/plain": [
              "<IPython.core.display.HTML object>"
            ]
          },
          "metadata": {
            "tags": []
          }
        },
        {
          "output_type": "display_data",
          "data": {
            "text/html": [
              "<span style=\"color:cyan\"> |-Best step: 0</span>"
            ],
            "text/plain": [
              "<IPython.core.display.HTML object>"
            ]
          },
          "metadata": {
            "tags": []
          }
        },
        {
          "output_type": "display_data",
          "data": {
            "text/html": [
              "<span style=\"color:#7E57C2\"><h2 style=\"font-size:16px\">Hyperparameters:</h2></span>"
            ],
            "text/plain": [
              "<IPython.core.display.HTML object>"
            ]
          },
          "metadata": {
            "tags": []
          }
        },
        {
          "output_type": "display_data",
          "data": {
            "text/html": [
              "<span style=\"color:cyan\"> |-learning_rate: 0.001</span>"
            ],
            "text/plain": [
              "<IPython.core.display.HTML object>"
            ]
          },
          "metadata": {
            "tags": []
          }
        },
        {
          "output_type": "display_data",
          "data": {
            "text/html": [
              "<span style=\"color:blue\"> |-units: 320</span>"
            ],
            "text/plain": [
              "<IPython.core.display.HTML object>"
            ]
          },
          "metadata": {
            "tags": []
          }
        },
        {
          "output_type": "stream",
          "text": [
            "Epoch 1/5\n",
            "WARNING:tensorflow:Layer dense is casting an input tensor from dtype float64 to the layer's dtype of float32, which is new behavior in TensorFlow 2.  The layer has dtype float32 because it's dtype defaults to floatx.\n",
            "\n",
            "If you intended to run this layer in float32, you can safely ignore this warning. If in doubt, this warning is likely only an issue if you are porting a TensorFlow 1.X model to TensorFlow 2.\n",
            "\n",
            "To change all layers to have dtype float64 by default, call `tf.keras.backend.set_floatx('float64')`. To change just this layer, pass dtype='float64' to the layer constructor. If you are the author of this layer, you can disable autocasting by passing autocast=False to the base Layer constructor.\n",
            "\n",
            "11/11 [==============================] - 0s 13ms/step - loss: 575.0242 - mae: 22.1168 - val_loss: 645.1910 - val_mae: 23.6671\n",
            "Epoch 2/5\n",
            "11/11 [==============================] - 0s 7ms/step - loss: 571.5410 - mae: 22.0434 - val_loss: 641.6778 - val_mae: 23.5967\n",
            "Epoch 3/5\n",
            "11/11 [==============================] - 0s 7ms/step - loss: 568.1631 - mae: 21.9718 - val_loss: 638.3202 - val_mae: 23.5282\n",
            "Epoch 4/5\n",
            "11/11 [==============================] - 0s 7ms/step - loss: 564.8976 - mae: 21.9019 - val_loss: 635.0203 - val_mae: 23.4605\n",
            "Epoch 5/5\n",
            "11/11 [==============================] - 0s 6ms/step - loss: 561.7141 - mae: 21.8325 - val_loss: 631.7345 - val_mae: 23.3924\n",
            "Epoch 1/5\n",
            "WARNING:tensorflow:Layer dense is casting an input tensor from dtype float64 to the layer's dtype of float32, which is new behavior in TensorFlow 2.  The layer has dtype float32 because it's dtype defaults to floatx.\n",
            "\n",
            "If you intended to run this layer in float32, you can safely ignore this warning. If in doubt, this warning is likely only an issue if you are porting a TensorFlow 1.X model to TensorFlow 2.\n",
            "\n",
            "To change all layers to have dtype float64 by default, call `tf.keras.backend.set_floatx('float64')`. To change just this layer, pass dtype='float64' to the layer constructor. If you are the author of this layer, you can disable autocasting by passing autocast=False to the base Layer constructor.\n",
            "\n",
            "11/11 [==============================] - 0s 12ms/step - loss: 572.7272 - mae: 22.1545 - val_loss: 643.5815 - val_mae: 23.6895\n",
            "Epoch 2/5\n",
            "11/11 [==============================] - 0s 7ms/step - loss: 569.0316 - mae: 22.0787 - val_loss: 639.8303 - val_mae: 23.6156\n",
            "Epoch 3/5\n",
            "11/11 [==============================] - 0s 6ms/step - loss: 565.5012 - mae: 22.0053 - val_loss: 636.1015 - val_mae: 23.5410\n",
            "Epoch 4/5\n",
            "11/11 [==============================] - 0s 7ms/step - loss: 561.8061 - mae: 21.9295 - val_loss: 632.5875 - val_mae: 23.4696\n",
            "Epoch 5/5\n",
            "11/11 [==============================] - 0s 7ms/step - loss: 558.3218 - mae: 21.8574 - val_loss: 628.8799 - val_mae: 23.3958\n",
            "Epoch 1/5\n",
            "WARNING:tensorflow:Layer dense is casting an input tensor from dtype float64 to the layer's dtype of float32, which is new behavior in TensorFlow 2.  The layer has dtype float32 because it's dtype defaults to floatx.\n",
            "\n",
            "If you intended to run this layer in float32, you can safely ignore this warning. If in doubt, this warning is likely only an issue if you are porting a TensorFlow 1.X model to TensorFlow 2.\n",
            "\n",
            "To change all layers to have dtype float64 by default, call `tf.keras.backend.set_floatx('float64')`. To change just this layer, pass dtype='float64' to the layer constructor. If you are the author of this layer, you can disable autocasting by passing autocast=False to the base Layer constructor.\n",
            "\n",
            "11/11 [==============================] - 0s 12ms/step - loss: 575.5533 - mae: 22.1838 - val_loss: 647.6959 - val_mae: 23.7305\n",
            "Epoch 2/5\n",
            "11/11 [==============================] - 0s 7ms/step - loss: 571.9775 - mae: 22.1090 - val_loss: 644.0889 - val_mae: 23.6577\n",
            "Epoch 3/5\n",
            "11/11 [==============================] - 0s 5ms/step - loss: 568.4959 - mae: 22.0353 - val_loss: 640.5141 - val_mae: 23.5854\n",
            "Epoch 4/5\n",
            "11/11 [==============================] - 0s 6ms/step - loss: 564.9978 - mae: 21.9618 - val_loss: 636.9161 - val_mae: 23.5137\n",
            "Epoch 5/5\n",
            "11/11 [==============================] - 0s 7ms/step - loss: 561.6553 - mae: 21.8909 - val_loss: 633.3940 - val_mae: 23.4430\n"
          ],
          "name": "stdout"
        },
        {
          "output_type": "display_data",
          "data": {
            "text/html": [
              "<span style=\"color:#4527A0\"><h1 style=\"font-size:18px\">Trial complete</h1></span>"
            ],
            "text/plain": [
              "<IPython.core.display.HTML object>"
            ]
          },
          "metadata": {
            "tags": []
          }
        },
        {
          "output_type": "display_data",
          "data": {
            "text/html": [
              "<span style=\"color:#4527A0\"><h1 style=\"font-size:18px\">Trial summary</h1></span>"
            ],
            "text/plain": [
              "<IPython.core.display.HTML object>"
            ]
          },
          "metadata": {
            "tags": []
          }
        },
        {
          "output_type": "display_data",
          "data": {
            "text/html": [
              "<span style=\"color:cyan\"> |-Trial ID: 76ba1b3fe76b6744398f04c93d4140b2</span>"
            ],
            "text/plain": [
              "<IPython.core.display.HTML object>"
            ]
          },
          "metadata": {
            "tags": []
          }
        },
        {
          "output_type": "display_data",
          "data": {
            "text/html": [
              "<span style=\"color:cyan\"> |-Score: 23.410396575927734</span>"
            ],
            "text/plain": [
              "<IPython.core.display.HTML object>"
            ]
          },
          "metadata": {
            "tags": []
          }
        },
        {
          "output_type": "display_data",
          "data": {
            "text/html": [
              "<span style=\"color:cyan\"> |-Best step: 0</span>"
            ],
            "text/plain": [
              "<IPython.core.display.HTML object>"
            ]
          },
          "metadata": {
            "tags": []
          }
        },
        {
          "output_type": "display_data",
          "data": {
            "text/html": [
              "<span style=\"color:#7E57C2\"><h2 style=\"font-size:16px\">Hyperparameters:</h2></span>"
            ],
            "text/plain": [
              "<IPython.core.display.HTML object>"
            ]
          },
          "metadata": {
            "tags": []
          }
        },
        {
          "output_type": "display_data",
          "data": {
            "text/html": [
              "<span style=\"color:cyan\"> |-learning_rate: 0.0001</span>"
            ],
            "text/plain": [
              "<IPython.core.display.HTML object>"
            ]
          },
          "metadata": {
            "tags": []
          }
        },
        {
          "output_type": "display_data",
          "data": {
            "text/html": [
              "<span style=\"color:blue\"> |-units: 224</span>"
            ],
            "text/plain": [
              "<IPython.core.display.HTML object>"
            ]
          },
          "metadata": {
            "tags": []
          }
        },
        {
          "output_type": "stream",
          "text": [
            "Epoch 1/5\n",
            "WARNING:tensorflow:Layer dense is casting an input tensor from dtype float64 to the layer's dtype of float32, which is new behavior in TensorFlow 2.  The layer has dtype float32 because it's dtype defaults to floatx.\n",
            "\n",
            "If you intended to run this layer in float32, you can safely ignore this warning. If in doubt, this warning is likely only an issue if you are porting a TensorFlow 1.X model to TensorFlow 2.\n",
            "\n",
            "To change all layers to have dtype float64 by default, call `tf.keras.backend.set_floatx('float64')`. To change just this layer, pass dtype='float64' to the layer constructor. If you are the author of this layer, you can disable autocasting by passing autocast=False to the base Layer constructor.\n",
            "\n",
            "11/11 [==============================] - 0s 14ms/step - loss: 455.8997 - mae: 19.3098 - val_loss: 339.5452 - val_mae: 16.1790\n",
            "Epoch 2/5\n",
            "11/11 [==============================] - 0s 7ms/step - loss: 174.2396 - mae: 10.8024 - val_loss: 102.3067 - val_mae: 7.5563\n",
            "Epoch 3/5\n",
            "11/11 [==============================] - 0s 7ms/step - loss: 60.0334 - mae: 5.8442 - val_loss: 59.7347 - val_mae: 5.8847\n",
            "Epoch 4/5\n",
            "11/11 [==============================] - 0s 7ms/step - loss: 36.1611 - mae: 4.2461 - val_loss: 32.2787 - val_mae: 4.2228\n",
            "Epoch 5/5\n",
            "11/11 [==============================] - 0s 7ms/step - loss: 27.4736 - mae: 3.6401 - val_loss: 26.5175 - val_mae: 3.8135\n",
            "Epoch 1/5\n",
            "WARNING:tensorflow:Layer dense is casting an input tensor from dtype float64 to the layer's dtype of float32, which is new behavior in TensorFlow 2.  The layer has dtype float32 because it's dtype defaults to floatx.\n",
            "\n",
            "If you intended to run this layer in float32, you can safely ignore this warning. If in doubt, this warning is likely only an issue if you are porting a TensorFlow 1.X model to TensorFlow 2.\n",
            "\n",
            "To change all layers to have dtype float64 by default, call `tf.keras.backend.set_floatx('float64')`. To change just this layer, pass dtype='float64' to the layer constructor. If you are the author of this layer, you can disable autocasting by passing autocast=False to the base Layer constructor.\n",
            "\n",
            "11/11 [==============================] - 0s 14ms/step - loss: 452.0367 - mae: 19.3533 - val_loss: 323.6003 - val_mae: 15.8120\n",
            "Epoch 2/5\n",
            "11/11 [==============================] - 0s 6ms/step - loss: 160.6461 - mae: 10.3537 - val_loss: 112.8256 - val_mae: 8.2902\n",
            "Epoch 3/5\n",
            "11/11 [==============================] - 0s 6ms/step - loss: 87.4403 - mae: 7.3442 - val_loss: 58.6334 - val_mae: 6.0329\n",
            "Epoch 4/5\n",
            "11/11 [==============================] - 0s 6ms/step - loss: 35.8514 - mae: 4.4240 - val_loss: 33.8453 - val_mae: 4.2295\n",
            "Epoch 5/5\n",
            "11/11 [==============================] - 0s 6ms/step - loss: 29.8127 - mae: 3.7972 - val_loss: 28.1373 - val_mae: 3.9543\n",
            "Epoch 1/5\n",
            "WARNING:tensorflow:Layer dense is casting an input tensor from dtype float64 to the layer's dtype of float32, which is new behavior in TensorFlow 2.  The layer has dtype float32 because it's dtype defaults to floatx.\n",
            "\n",
            "If you intended to run this layer in float32, you can safely ignore this warning. If in doubt, this warning is likely only an issue if you are porting a TensorFlow 1.X model to TensorFlow 2.\n",
            "\n",
            "To change all layers to have dtype float64 by default, call `tf.keras.backend.set_floatx('float64')`. To change just this layer, pass dtype='float64' to the layer constructor. If you are the author of this layer, you can disable autocasting by passing autocast=False to the base Layer constructor.\n",
            "\n",
            "11/11 [==============================] - 0s 12ms/step - loss: 447.8932 - mae: 19.1801 - val_loss: 322.7302 - val_mae: 15.6396\n",
            "Epoch 2/5\n",
            "11/11 [==============================] - 0s 6ms/step - loss: 165.6245 - mae: 10.4245 - val_loss: 123.2259 - val_mae: 8.5151\n",
            "Epoch 3/5\n",
            "11/11 [==============================] - 0s 6ms/step - loss: 84.7751 - mae: 7.0037 - val_loss: 64.0440 - val_mae: 6.0062\n",
            "Epoch 4/5\n",
            "11/11 [==============================] - 0s 6ms/step - loss: 35.1874 - mae: 4.0698 - val_loss: 35.2565 - val_mae: 4.3349\n",
            "Epoch 5/5\n",
            "11/11 [==============================] - 0s 6ms/step - loss: 28.9707 - mae: 3.7346 - val_loss: 28.1293 - val_mae: 3.9962\n"
          ],
          "name": "stdout"
        },
        {
          "output_type": "display_data",
          "data": {
            "text/html": [
              "<span style=\"color:#4527A0\"><h1 style=\"font-size:18px\">Trial complete</h1></span>"
            ],
            "text/plain": [
              "<IPython.core.display.HTML object>"
            ]
          },
          "metadata": {
            "tags": []
          }
        },
        {
          "output_type": "display_data",
          "data": {
            "text/html": [
              "<span style=\"color:#4527A0\"><h1 style=\"font-size:18px\">Trial summary</h1></span>"
            ],
            "text/plain": [
              "<IPython.core.display.HTML object>"
            ]
          },
          "metadata": {
            "tags": []
          }
        },
        {
          "output_type": "display_data",
          "data": {
            "text/html": [
              "<span style=\"color:cyan\"> |-Trial ID: cd36ccb850e87be8cb8d2dc583dff80b</span>"
            ],
            "text/plain": [
              "<IPython.core.display.HTML object>"
            ]
          },
          "metadata": {
            "tags": []
          }
        },
        {
          "output_type": "display_data",
          "data": {
            "text/html": [
              "<span style=\"color:cyan\"> |-Score: 3.9213194052378335</span>"
            ],
            "text/plain": [
              "<IPython.core.display.HTML object>"
            ]
          },
          "metadata": {
            "tags": []
          }
        },
        {
          "output_type": "display_data",
          "data": {
            "text/html": [
              "<span style=\"color:cyan\"> |-Best step: 0</span>"
            ],
            "text/plain": [
              "<IPython.core.display.HTML object>"
            ]
          },
          "metadata": {
            "tags": []
          }
        },
        {
          "output_type": "display_data",
          "data": {
            "text/html": [
              "<span style=\"color:#7E57C2\"><h2 style=\"font-size:16px\">Hyperparameters:</h2></span>"
            ],
            "text/plain": [
              "<IPython.core.display.HTML object>"
            ]
          },
          "metadata": {
            "tags": []
          }
        },
        {
          "output_type": "display_data",
          "data": {
            "text/html": [
              "<span style=\"color:cyan\"> |-learning_rate: 0.01</span>"
            ],
            "text/plain": [
              "<IPython.core.display.HTML object>"
            ]
          },
          "metadata": {
            "tags": []
          }
        },
        {
          "output_type": "display_data",
          "data": {
            "text/html": [
              "<span style=\"color:blue\"> |-units: 160</span>"
            ],
            "text/plain": [
              "<IPython.core.display.HTML object>"
            ]
          },
          "metadata": {
            "tags": []
          }
        },
        {
          "output_type": "stream",
          "text": [
            "INFO:tensorflow:Oracle triggered exit\n"
          ],
          "name": "stdout"
        }
      ]
    },
    {
      "cell_type": "code",
      "metadata": {
        "id": "YEAhpZ1MX8uh",
        "colab_type": "code",
        "colab": {
          "base_uri": "https://localhost:8080/",
          "height": 903
        },
        "outputId": "6d822296-bf52-4913-9ee6-f803043a4c0b"
      },
      "source": [
        "tuner.results_summary()"
      ],
      "execution_count": 23,
      "outputs": [
        {
          "output_type": "display_data",
          "data": {
            "text/html": [
              "<span style=\"color:#4527A0\"><h1 style=\"font-size:18px\">Results summary</h1></span>"
            ],
            "text/plain": [
              "<IPython.core.display.HTML object>"
            ]
          },
          "metadata": {
            "tags": []
          }
        },
        {
          "output_type": "display_data",
          "data": {
            "text/html": [
              "<span style=\"color:cyan\"> |-Results in ./keras-tuner-trial/boston_housing</span>"
            ],
            "text/plain": [
              "<IPython.core.display.HTML object>"
            ]
          },
          "metadata": {
            "tags": []
          }
        },
        {
          "output_type": "display_data",
          "data": {
            "text/html": [
              "<span style=\"color:cyan\"> |-Showing 10 best trials</span>"
            ],
            "text/plain": [
              "<IPython.core.display.HTML object>"
            ]
          },
          "metadata": {
            "tags": []
          }
        },
        {
          "output_type": "display_data",
          "data": {
            "text/html": [
              "<span style=\"color:cyan\"> |-Objective(name='val_mae', direction='min')</span>"
            ],
            "text/plain": [
              "<IPython.core.display.HTML object>"
            ]
          },
          "metadata": {
            "tags": []
          }
        },
        {
          "output_type": "display_data",
          "data": {
            "text/html": [
              "<span style=\"color:#4527A0\"><h1 style=\"font-size:18px\">Trial summary</h1></span>"
            ],
            "text/plain": [
              "<IPython.core.display.HTML object>"
            ]
          },
          "metadata": {
            "tags": []
          }
        },
        {
          "output_type": "display_data",
          "data": {
            "text/html": [
              "<span style=\"color:cyan\"> |-Trial ID: cd36ccb850e87be8cb8d2dc583dff80b</span>"
            ],
            "text/plain": [
              "<IPython.core.display.HTML object>"
            ]
          },
          "metadata": {
            "tags": []
          }
        },
        {
          "output_type": "display_data",
          "data": {
            "text/html": [
              "<span style=\"color:cyan\"> |-Score: 3.9213194052378335</span>"
            ],
            "text/plain": [
              "<IPython.core.display.HTML object>"
            ]
          },
          "metadata": {
            "tags": []
          }
        },
        {
          "output_type": "display_data",
          "data": {
            "text/html": [
              "<span style=\"color:cyan\"> |-Best step: 0</span>"
            ],
            "text/plain": [
              "<IPython.core.display.HTML object>"
            ]
          },
          "metadata": {
            "tags": []
          }
        },
        {
          "output_type": "display_data",
          "data": {
            "text/html": [
              "<span style=\"color:#7E57C2\"><h2 style=\"font-size:16px\">Hyperparameters:</h2></span>"
            ],
            "text/plain": [
              "<IPython.core.display.HTML object>"
            ]
          },
          "metadata": {
            "tags": []
          }
        },
        {
          "output_type": "display_data",
          "data": {
            "text/html": [
              "<span style=\"color:cyan\"> |-learning_rate: 0.01</span>"
            ],
            "text/plain": [
              "<IPython.core.display.HTML object>"
            ]
          },
          "metadata": {
            "tags": []
          }
        },
        {
          "output_type": "display_data",
          "data": {
            "text/html": [
              "<span style=\"color:blue\"> |-units: 160</span>"
            ],
            "text/plain": [
              "<IPython.core.display.HTML object>"
            ]
          },
          "metadata": {
            "tags": []
          }
        },
        {
          "output_type": "display_data",
          "data": {
            "text/html": [
              "<span style=\"color:#4527A0\"><h1 style=\"font-size:18px\">Trial summary</h1></span>"
            ],
            "text/plain": [
              "<IPython.core.display.HTML object>"
            ]
          },
          "metadata": {
            "tags": []
          }
        },
        {
          "output_type": "display_data",
          "data": {
            "text/html": [
              "<span style=\"color:cyan\"> |-Trial ID: 48d989de0f75b5fd702272bbc1fdd8ce</span>"
            ],
            "text/plain": [
              "<IPython.core.display.HTML object>"
            ]
          },
          "metadata": {
            "tags": []
          }
        },
        {
          "output_type": "display_data",
          "data": {
            "text/html": [
              "<span style=\"color:cyan\"> |-Score: 3.994849999745687</span>"
            ],
            "text/plain": [
              "<IPython.core.display.HTML object>"
            ]
          },
          "metadata": {
            "tags": []
          }
        },
        {
          "output_type": "display_data",
          "data": {
            "text/html": [
              "<span style=\"color:cyan\"> |-Best step: 0</span>"
            ],
            "text/plain": [
              "<IPython.core.display.HTML object>"
            ]
          },
          "metadata": {
            "tags": []
          }
        },
        {
          "output_type": "display_data",
          "data": {
            "text/html": [
              "<span style=\"color:#7E57C2\"><h2 style=\"font-size:16px\">Hyperparameters:</h2></span>"
            ],
            "text/plain": [
              "<IPython.core.display.HTML object>"
            ]
          },
          "metadata": {
            "tags": []
          }
        },
        {
          "output_type": "display_data",
          "data": {
            "text/html": [
              "<span style=\"color:cyan\"> |-learning_rate: 0.01</span>"
            ],
            "text/plain": [
              "<IPython.core.display.HTML object>"
            ]
          },
          "metadata": {
            "tags": []
          }
        },
        {
          "output_type": "display_data",
          "data": {
            "text/html": [
              "<span style=\"color:blue\"> |-units: 128</span>"
            ],
            "text/plain": [
              "<IPython.core.display.HTML object>"
            ]
          },
          "metadata": {
            "tags": []
          }
        },
        {
          "output_type": "display_data",
          "data": {
            "text/html": [
              "<span style=\"color:#4527A0\"><h1 style=\"font-size:18px\">Trial summary</h1></span>"
            ],
            "text/plain": [
              "<IPython.core.display.HTML object>"
            ]
          },
          "metadata": {
            "tags": []
          }
        },
        {
          "output_type": "display_data",
          "data": {
            "text/html": [
              "<span style=\"color:cyan\"> |-Trial ID: e62710ee26e514056d75fd1f73b0b96d</span>"
            ],
            "text/plain": [
              "<IPython.core.display.HTML object>"
            ]
          },
          "metadata": {
            "tags": []
          }
        },
        {
          "output_type": "display_data",
          "data": {
            "text/html": [
              "<span style=\"color:cyan\"> |-Score: 18.4713872273763</span>"
            ],
            "text/plain": [
              "<IPython.core.display.HTML object>"
            ]
          },
          "metadata": {
            "tags": []
          }
        },
        {
          "output_type": "display_data",
          "data": {
            "text/html": [
              "<span style=\"color:cyan\"> |-Best step: 0</span>"
            ],
            "text/plain": [
              "<IPython.core.display.HTML object>"
            ]
          },
          "metadata": {
            "tags": []
          }
        },
        {
          "output_type": "display_data",
          "data": {
            "text/html": [
              "<span style=\"color:#7E57C2\"><h2 style=\"font-size:16px\">Hyperparameters:</h2></span>"
            ],
            "text/plain": [
              "<IPython.core.display.HTML object>"
            ]
          },
          "metadata": {
            "tags": []
          }
        },
        {
          "output_type": "display_data",
          "data": {
            "text/html": [
              "<span style=\"color:cyan\"> |-learning_rate: 0.001</span>"
            ],
            "text/plain": [
              "<IPython.core.display.HTML object>"
            ]
          },
          "metadata": {
            "tags": []
          }
        },
        {
          "output_type": "display_data",
          "data": {
            "text/html": [
              "<span style=\"color:blue\"> |-units: 320</span>"
            ],
            "text/plain": [
              "<IPython.core.display.HTML object>"
            ]
          },
          "metadata": {
            "tags": []
          }
        },
        {
          "output_type": "display_data",
          "data": {
            "text/html": [
              "<span style=\"color:#4527A0\"><h1 style=\"font-size:18px\">Trial summary</h1></span>"
            ],
            "text/plain": [
              "<IPython.core.display.HTML object>"
            ]
          },
          "metadata": {
            "tags": []
          }
        },
        {
          "output_type": "display_data",
          "data": {
            "text/html": [
              "<span style=\"color:cyan\"> |-Trial ID: 4cd3214a20ddc09ea83f87fa88785778</span>"
            ],
            "text/plain": [
              "<IPython.core.display.HTML object>"
            ]
          },
          "metadata": {
            "tags": []
          }
        },
        {
          "output_type": "display_data",
          "data": {
            "text/html": [
              "<span style=\"color:cyan\"> |-Score: 23.322593688964844</span>"
            ],
            "text/plain": [
              "<IPython.core.display.HTML object>"
            ]
          },
          "metadata": {
            "tags": []
          }
        },
        {
          "output_type": "display_data",
          "data": {
            "text/html": [
              "<span style=\"color:cyan\"> |-Best step: 0</span>"
            ],
            "text/plain": [
              "<IPython.core.display.HTML object>"
            ]
          },
          "metadata": {
            "tags": []
          }
        },
        {
          "output_type": "display_data",
          "data": {
            "text/html": [
              "<span style=\"color:#7E57C2\"><h2 style=\"font-size:16px\">Hyperparameters:</h2></span>"
            ],
            "text/plain": [
              "<IPython.core.display.HTML object>"
            ]
          },
          "metadata": {
            "tags": []
          }
        },
        {
          "output_type": "display_data",
          "data": {
            "text/html": [
              "<span style=\"color:cyan\"> |-learning_rate: 0.0001</span>"
            ],
            "text/plain": [
              "<IPython.core.display.HTML object>"
            ]
          },
          "metadata": {
            "tags": []
          }
        },
        {
          "output_type": "display_data",
          "data": {
            "text/html": [
              "<span style=\"color:blue\"> |-units: 192</span>"
            ],
            "text/plain": [
              "<IPython.core.display.HTML object>"
            ]
          },
          "metadata": {
            "tags": []
          }
        },
        {
          "output_type": "display_data",
          "data": {
            "text/html": [
              "<span style=\"color:#4527A0\"><h1 style=\"font-size:18px\">Trial summary</h1></span>"
            ],
            "text/plain": [
              "<IPython.core.display.HTML object>"
            ]
          },
          "metadata": {
            "tags": []
          }
        },
        {
          "output_type": "display_data",
          "data": {
            "text/html": [
              "<span style=\"color:cyan\"> |-Trial ID: 76ba1b3fe76b6744398f04c93d4140b2</span>"
            ],
            "text/plain": [
              "<IPython.core.display.HTML object>"
            ]
          },
          "metadata": {
            "tags": []
          }
        },
        {
          "output_type": "display_data",
          "data": {
            "text/html": [
              "<span style=\"color:cyan\"> |-Score: 23.410396575927734</span>"
            ],
            "text/plain": [
              "<IPython.core.display.HTML object>"
            ]
          },
          "metadata": {
            "tags": []
          }
        },
        {
          "output_type": "display_data",
          "data": {
            "text/html": [
              "<span style=\"color:cyan\"> |-Best step: 0</span>"
            ],
            "text/plain": [
              "<IPython.core.display.HTML object>"
            ]
          },
          "metadata": {
            "tags": []
          }
        },
        {
          "output_type": "display_data",
          "data": {
            "text/html": [
              "<span style=\"color:#7E57C2\"><h2 style=\"font-size:16px\">Hyperparameters:</h2></span>"
            ],
            "text/plain": [
              "<IPython.core.display.HTML object>"
            ]
          },
          "metadata": {
            "tags": []
          }
        },
        {
          "output_type": "display_data",
          "data": {
            "text/html": [
              "<span style=\"color:cyan\"> |-learning_rate: 0.0001</span>"
            ],
            "text/plain": [
              "<IPython.core.display.HTML object>"
            ]
          },
          "metadata": {
            "tags": []
          }
        },
        {
          "output_type": "display_data",
          "data": {
            "text/html": [
              "<span style=\"color:blue\"> |-units: 224</span>"
            ],
            "text/plain": [
              "<IPython.core.display.HTML object>"
            ]
          },
          "metadata": {
            "tags": []
          }
        }
      ]
    },
    {
      "cell_type": "markdown",
      "metadata": {
        "id": "xxbodjC1X8uj",
        "colab_type": "text"
      },
      "source": [
        "## Challenge\n",
        "\n",
        "Try to apply RandomSearchCV to your module project today. "
      ]
    },
    {
      "cell_type": "markdown",
      "metadata": {
        "id": "WvehYYL1X8uj",
        "colab_type": "text"
      },
      "source": [
        "# Review\n",
        "* <a href=\"#p1\">Part 1</a>: Describe the major hyperparemeters to tune\n",
        "    - Activation Functions\n",
        "    - Optimizer\n",
        "    - Number of Layers\n",
        "    - Number of Neurons\n",
        "    - Batch Size\n",
        "    - Dropout Regulaization\n",
        "    - Learning Rate\n",
        "    - Number of Epochs\n",
        "    - and many more\n",
        "* <a href=\"#p2\">Part 2</a>: Implement an experiment tracking framework\n",
        "    - Weights & Biases\n",
        "    - Comet.ml\n",
        "    - By Hand / GridSearch\n",
        "* <a href=\"#p3\">Part 3</a>: Search the hyperparameter space using RandomSearch\n",
        "    - Sklearn still useful (haha)\n",
        "    - Integration with Wieghts & Biases\n",
        "* <a href=\"#p4\">Part 4</a>: Discuss emerging hyperparameter tuning strategies\n",
        "    - Bayesian Optimization\n",
        "    - Hyperopt\n",
        "    - Genetic Evolution"
      ]
    },
    {
      "cell_type": "markdown",
      "metadata": {
        "id": "usJlidLZX8uk",
        "colab_type": "text"
      },
      "source": [
        "# Sources"
      ]
    },
    {
      "cell_type": "markdown",
      "metadata": {
        "id": "6YFVCtuPX8uk",
        "colab_type": "text"
      },
      "source": [
        "## Additional Reading\n",
        "- https://machinelearningmastery.com/grid-search-hyperparameters-deep-learning-models-python-keras/\n",
        "- https://blog.floydhub.com/guide-to-hyperparameters-search-for-deep-learning-models/\n",
        "- https://machinelearningmastery.com/dropout-regularization-deep-learning-models-keras/\n",
        "- https://machinelearningmastery.com/introduction-to-weight-constraints-to-reduce-generalization-error-in-deep-learning/\n",
        "- https://machinelearningmastery.com/how-to-configure-the-number-of-layers-and-nodes-in-a-neural-network/"
      ]
    }
  ]
}